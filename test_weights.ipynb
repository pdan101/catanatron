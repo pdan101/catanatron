{
  "cells": [
    {
      "cell_type": "code",
      "source": [
        "!git clone https://github.com/pdan101/catanatron.git\n",
        "!pip install -r catanatron/dev-requirements.txt\n",
        "!pip install -e catanatron/catanatron_core\n",
        "!pip install -e catanatron/catanatron_server\n",
        "!pip install -e catanatron/catanatron_gym\n",
        "!pip install -e catanatron/catanatron_experimental\n",
        "exit() # Forcefully restart runtime to picks up installed requirements"
      ],
      "metadata": {
        "colab": {
          "base_uri": "https://localhost:8080/"
        },
        "id": "h0573qysrTWX",
        "outputId": "d224fafc-69cb-4d5f-cc04-a92a3372b585"
      },
      "execution_count": 2,
      "outputs": [
        {
          "output_type": "stream",
          "name": "stdout",
          "text": [
            "fatal: destination path 'catanatron' already exists and is not an empty directory.\n",
            "Collecting absl-py==1.0.0 (from -r catanatron/dev-requirements.txt (line 1))\n",
            "  Using cached absl_py-1.0.0-py3-none-any.whl (126 kB)\n",
            "Requirement already satisfied: astunparse==1.6.3 in /usr/local/lib/python3.10/dist-packages (from -r catanatron/dev-requirements.txt (line 2)) (1.6.3)\n",
            "Collecting attrs==21.4.0 (from -r catanatron/dev-requirements.txt (line 3))\n",
            "  Using cached attrs-21.4.0-py2.py3-none-any.whl (60 kB)\n",
            "Collecting black==22.1.0 (from -r catanatron/dev-requirements.txt (line 4))\n",
            "  Using cached black-22.1.0-cp310-cp310-manylinux_2_17_x86_64.manylinux2014_x86_64.whl (1.5 MB)\n",
            "Collecting cachetools==5.0.0 (from -r catanatron/dev-requirements.txt (line 5))\n",
            "  Using cached cachetools-5.0.0-py3-none-any.whl (9.1 kB)\n",
            "Collecting certifi==2021.10.8 (from -r catanatron/dev-requirements.txt (line 6))\n",
            "  Using cached certifi-2021.10.8-py2.py3-none-any.whl (149 kB)\n",
            "Collecting charset-normalizer==2.0.11 (from -r catanatron/dev-requirements.txt (line 7))\n",
            "  Using cached charset_normalizer-2.0.11-py3-none-any.whl (39 kB)\n",
            "Collecting click==8.0.3 (from -r catanatron/dev-requirements.txt (line 8))\n",
            "  Using cached click-8.0.3-py3-none-any.whl (97 kB)\n",
            "Collecting cloudpickle==2.0.0 (from -r catanatron/dev-requirements.txt (line 9))\n",
            "  Using cached cloudpickle-2.0.0-py3-none-any.whl (25 kB)\n",
            "Collecting colorama==0.4.4 (from -r catanatron/dev-requirements.txt (line 10))\n",
            "  Using cached colorama-0.4.4-py2.py3-none-any.whl (16 kB)\n",
            "Collecting commonmark==0.9.1 (from -r catanatron/dev-requirements.txt (line 11))\n",
            "  Using cached commonmark-0.9.1-py2.py3-none-any.whl (51 kB)\n",
            "Collecting coverage==6.3.1 (from -r catanatron/dev-requirements.txt (line 12))\n",
            "  Using cached coverage-6.3.1-cp310-cp310-manylinux_2_5_x86_64.manylinux1_x86_64.manylinux_2_17_x86_64.manylinux2014_x86_64.whl (210 kB)\n",
            "Collecting coveralls==3.3.1 (from -r catanatron/dev-requirements.txt (line 13))\n",
            "  Using cached coveralls-3.3.1-py2.py3-none-any.whl (14 kB)\n",
            "Collecting docopt==0.6.2 (from -r catanatron/dev-requirements.txt (line 14))\n",
            "  Using cached docopt-0.6.2.tar.gz (25 kB)\n",
            "  Preparing metadata (setup.py) ... \u001b[?25l\u001b[?25hdone\n",
            "Collecting Flask==2.0.2 (from -r catanatron/dev-requirements.txt (line 15))\n",
            "  Using cached Flask-2.0.2-py3-none-any.whl (95 kB)\n",
            "Collecting Flask-Cors==3.0.10 (from -r catanatron/dev-requirements.txt (line 16))\n",
            "  Using cached Flask_Cors-3.0.10-py2.py3-none-any.whl (14 kB)\n",
            "Collecting Flask-SQLAlchemy==2.5.1 (from -r catanatron/dev-requirements.txt (line 17))\n",
            "  Using cached Flask_SQLAlchemy-2.5.1-py2.py3-none-any.whl (17 kB)\n",
            "Collecting flatbuffers==2.0 (from -r catanatron/dev-requirements.txt (line 18))\n",
            "  Using cached flatbuffers-2.0-py2.py3-none-any.whl (26 kB)\n",
            "Collecting gast==0.5.3 (from -r catanatron/dev-requirements.txt (line 19))\n",
            "  Using cached gast-0.5.3-py3-none-any.whl (19 kB)\n",
            "Collecting google-auth==2.6.0 (from -r catanatron/dev-requirements.txt (line 20))\n",
            "  Using cached google_auth-2.6.0-py2.py3-none-any.whl (156 kB)\n",
            "Collecting google-auth-oauthlib==0.4.6 (from -r catanatron/dev-requirements.txt (line 21))\n",
            "  Using cached google_auth_oauthlib-0.4.6-py2.py3-none-any.whl (18 kB)\n",
            "Requirement already satisfied: google-pasta==0.2.0 in /usr/local/lib/python3.10/dist-packages (from -r catanatron/dev-requirements.txt (line 22)) (0.2.0)\n",
            "Collecting greenlet==1.1.2 (from -r catanatron/dev-requirements.txt (line 23))\n",
            "  Using cached greenlet-1.1.2-cp310-cp310-manylinux_2_17_x86_64.manylinux2014_x86_64.whl (155 kB)\n",
            "Collecting grpcio==1.43.0 (from -r catanatron/dev-requirements.txt (line 24))\n",
            "  Using cached grpcio-1.43.0-cp310-cp310-manylinux_2_17_x86_64.manylinux2014_x86_64.whl (4.1 MB)\n",
            "Collecting gym==0.21.0 (from -r catanatron/dev-requirements.txt (line 25))\n",
            "  Using cached gym-0.21.0.tar.gz (1.5 MB)\n",
            "  \u001b[1;31merror\u001b[0m: \u001b[1msubprocess-exited-with-error\u001b[0m\n",
            "  \n",
            "  \u001b[31m×\u001b[0m \u001b[32mpython setup.py egg_info\u001b[0m did not run successfully.\n",
            "  \u001b[31m│\u001b[0m exit code: \u001b[1;36m1\u001b[0m\n",
            "  \u001b[31m╰─>\u001b[0m See above for output.\n",
            "  \n",
            "  \u001b[1;35mnote\u001b[0m: This error originates from a subprocess, and is likely not a problem with pip.\n",
            "  Preparing metadata (setup.py) ... \u001b[?25l\u001b[?25herror\n",
            "\u001b[1;31merror\u001b[0m: \u001b[1mmetadata-generation-failed\u001b[0m\n",
            "\n",
            "\u001b[31m×\u001b[0m Encountered error while generating package metadata.\n",
            "\u001b[31m╰─>\u001b[0m See above for output.\n",
            "\n",
            "\u001b[1;35mnote\u001b[0m: This is an issue with the package mentioned above, not pip.\n",
            "\u001b[1;36mhint\u001b[0m: See above for details.\n",
            "Obtaining file:///content/catanatron/catanatron_core\n",
            "  Preparing metadata (setup.py) ... \u001b[?25l\u001b[?25hdone\n",
            "Requirement already satisfied: networkx in /usr/local/lib/python3.10/dist-packages (from catanatron==3.2.1) (3.2.1)\n",
            "Installing collected packages: catanatron\n",
            "  Attempting uninstall: catanatron\n",
            "    Found existing installation: catanatron 3.2.1\n",
            "    Uninstalling catanatron-3.2.1:\n",
            "      Successfully uninstalled catanatron-3.2.1\n",
            "  Running setup.py develop for catanatron\n",
            "Successfully installed catanatron-3.2.1\n",
            "Obtaining file:///content/catanatron/catanatron_server\n",
            "  Preparing metadata (setup.py) ... \u001b[?25l\u001b[?25hdone\n",
            "Requirement already satisfied: catanatron in ./catanatron/catanatron_core (from catanatron-server==1.0.0) (3.2.1)\n",
            "Requirement already satisfied: flask in /usr/local/lib/python3.10/dist-packages (from catanatron-server==1.0.0) (2.2.5)\n",
            "Requirement already satisfied: flask_cors in /usr/local/lib/python3.10/dist-packages (from catanatron-server==1.0.0) (4.0.0)\n",
            "Requirement already satisfied: flask_sqlalchemy in /usr/local/lib/python3.10/dist-packages (from catanatron-server==1.0.0) (3.1.1)\n",
            "Requirement already satisfied: sqlalchemy in /usr/local/lib/python3.10/dist-packages (from catanatron-server==1.0.0) (2.0.23)\n",
            "Requirement already satisfied: psycopg2-binary in /usr/local/lib/python3.10/dist-packages (from catanatron-server==1.0.0) (2.9.9)\n",
            "Requirement already satisfied: networkx in /usr/local/lib/python3.10/dist-packages (from catanatron->catanatron-server==1.0.0) (3.2.1)\n",
            "Requirement already satisfied: Werkzeug>=2.2.2 in /usr/local/lib/python3.10/dist-packages (from flask->catanatron-server==1.0.0) (3.0.1)\n",
            "Requirement already satisfied: Jinja2>=3.0 in /usr/local/lib/python3.10/dist-packages (from flask->catanatron-server==1.0.0) (3.1.2)\n",
            "Requirement already satisfied: itsdangerous>=2.0 in /usr/local/lib/python3.10/dist-packages (from flask->catanatron-server==1.0.0) (2.1.2)\n",
            "Requirement already satisfied: click>=8.0 in /usr/local/lib/python3.10/dist-packages (from flask->catanatron-server==1.0.0) (8.1.7)\n",
            "Requirement already satisfied: typing-extensions>=4.2.0 in /usr/local/lib/python3.10/dist-packages (from sqlalchemy->catanatron-server==1.0.0) (4.5.0)\n",
            "Requirement already satisfied: greenlet!=0.4.17 in /usr/local/lib/python3.10/dist-packages (from sqlalchemy->catanatron-server==1.0.0) (3.0.1)\n",
            "Requirement already satisfied: MarkupSafe>=2.0 in /usr/local/lib/python3.10/dist-packages (from Jinja2>=3.0->flask->catanatron-server==1.0.0) (2.1.3)\n",
            "Installing collected packages: catanatron-server\n",
            "  Attempting uninstall: catanatron-server\n",
            "    Found existing installation: catanatron-server 1.0.0\n",
            "    Uninstalling catanatron-server-1.0.0:\n",
            "      Successfully uninstalled catanatron-server-1.0.0\n",
            "  Running setup.py develop for catanatron-server\n",
            "Successfully installed catanatron-server-1.0.0\n",
            "Obtaining file:///content/catanatron/catanatron_gym\n",
            "  Preparing metadata (setup.py) ... \u001b[?25l\u001b[?25hdone\n",
            "Requirement already satisfied: catanatron in ./catanatron/catanatron_core (from catanatron-gym==3.2.1) (3.2.1)\n",
            "Requirement already satisfied: gymnasium in /usr/local/lib/python3.10/dist-packages (from catanatron-gym==3.2.1) (0.29.1)\n",
            "Requirement already satisfied: numpy in /usr/local/lib/python3.10/dist-packages (from catanatron-gym==3.2.1) (1.23.5)\n",
            "Requirement already satisfied: networkx in /usr/local/lib/python3.10/dist-packages (from catanatron->catanatron-gym==3.2.1) (3.2.1)\n",
            "Requirement already satisfied: cloudpickle>=1.2.0 in /usr/local/lib/python3.10/dist-packages (from gymnasium->catanatron-gym==3.2.1) (2.2.1)\n",
            "Requirement already satisfied: typing-extensions>=4.3.0 in /usr/local/lib/python3.10/dist-packages (from gymnasium->catanatron-gym==3.2.1) (4.5.0)\n",
            "Requirement already satisfied: farama-notifications>=0.0.1 in /usr/local/lib/python3.10/dist-packages (from gymnasium->catanatron-gym==3.2.1) (0.0.4)\n",
            "Installing collected packages: catanatron-gym\n",
            "  Attempting uninstall: catanatron-gym\n",
            "    Found existing installation: catanatron-gym 3.2.1\n",
            "    Uninstalling catanatron-gym-3.2.1:\n",
            "      Successfully uninstalled catanatron-gym-3.2.1\n",
            "  Running setup.py develop for catanatron-gym\n",
            "Successfully installed catanatron-gym-3.2.1\n",
            "Obtaining file:///content/catanatron/catanatron_experimental\n",
            "  Preparing metadata (setup.py) ... \u001b[?25l\u001b[?25hdone\n",
            "Requirement already satisfied: rich in /usr/local/lib/python3.10/dist-packages (from catanatron-experimental==1.0.0) (13.6.0)\n",
            "Requirement already satisfied: markdown-it-py>=2.2.0 in /usr/local/lib/python3.10/dist-packages (from rich->catanatron-experimental==1.0.0) (3.0.0)\n",
            "Requirement already satisfied: pygments<3.0.0,>=2.13.0 in /usr/local/lib/python3.10/dist-packages (from rich->catanatron-experimental==1.0.0) (2.16.1)\n",
            "Requirement already satisfied: mdurl~=0.1 in /usr/local/lib/python3.10/dist-packages (from markdown-it-py>=2.2.0->rich->catanatron-experimental==1.0.0) (0.1.2)\n",
            "Installing collected packages: catanatron-experimental\n",
            "  Attempting uninstall: catanatron-experimental\n",
            "    Found existing installation: catanatron-experimental 1.0.0\n",
            "    Uninstalling catanatron-experimental-1.0.0:\n",
            "      Successfully uninstalled catanatron-experimental-1.0.0\n",
            "  Running setup.py develop for catanatron-experimental\n",
            "Successfully installed catanatron-experimental-1.0.0\n"
          ]
        }
      ]
    },
    {
      "cell_type": "code",
      "source": [
        "# Avoids scroll-in-the-scroll in the entire Notebook\n",
        "from IPython.display import Javascript\n",
        "def resize_colab_cell():\n",
        "  display(Javascript('google.colab.output.setIframeHeight(0, true, {maxHeight: 5000, maxWidth:10000})'))\n",
        "get_ipython().events.register('pre_run_cell', resize_colab_cell)"
      ],
      "metadata": {
        "colab": {
          "base_uri": "https://localhost:8080/",
          "height": 17
        },
        "id": "SjOELHJ2wOuF",
        "outputId": "45ff582c-7aa3-47cb-ac57-06873cd0f532"
      },
      "execution_count": 7,
      "outputs": [
        {
          "output_type": "display_data",
          "data": {
            "text/plain": [
              "<IPython.core.display.Javascript object>"
            ],
            "application/javascript": [
              "google.colab.output.setIframeHeight(0, true, {maxHeight: 5000, maxWidth: 5000})"
            ]
          },
          "metadata": {}
        }
      ]
    },
    {
      "cell_type": "code",
      "execution_count": 1,
      "metadata": {
        "id": "efsBK7rgrR_u"
      },
      "outputs": [],
      "source": [
        "from catanatron import Game, RandomPlayer, Color\n",
        "\n",
        "from catanatron_experimental.machine_learning.players.minimax import AlphaBetaPlayer\n",
        "from catanatron_experimental.play import play_batch\n",
        "\n",
        "from catanatron_experimental.machine_learning.players.value import DEFAULT_WEIGHTS\n"
      ]
    },
    {
      "cell_type": "code",
      "execution_count": 2,
      "metadata": {
        "id": "m4ufD8h9rR_w"
      },
      "outputs": [],
      "source": [
        "test_weights = DEFAULT_WEIGHTS.copy()\n",
        "for k, v in test_weights.items():\n",
        "    test_weights[k] = 0\n",
        "test_weights['enemy_production'] = -5e8"
      ]
    },
    {
      "cell_type": "code",
      "execution_count": 8,
      "metadata": {
        "colab": {
          "base_uri": "https://localhost:8080/",
          "height": 417,
          "referenced_widgets": [
            "793ef34919b643b4867b1386ba60d010",
            "97a3ab55498c472cb8d8593626d94d6a"
          ]
        },
        "id": "e1VGsCrRrR_w",
        "outputId": "7a3e2fc2-daba-470e-df91-500d2ac69c7f"
      },
      "outputs": [
        {
          "output_type": "display_data",
          "data": {
            "text/plain": [
              "<IPython.core.display.Javascript object>"
            ],
            "application/javascript": [
              "google.colab.output.setIframeHeight(0, true, {maxHeight: 5000, maxWidth: 5000})"
            ]
          },
          "metadata": {}
        },
        {
          "output_type": "display_data",
          "data": {
            "text/plain": [
              "<IPython.core.display.Javascript object>"
            ],
            "application/javascript": [
              "google.colab.output.setIframeHeight(0, true, {maxHeight: 5000, maxWidth:10000})"
            ]
          },
          "metadata": {}
        },
        {
          "output_type": "display_data",
          "data": {
            "text/plain": [
              "Output()"
            ],
            "application/vnd.jupyter.widget-view+json": {
              "version_major": 2,
              "version_minor": 0,
              "model_id": "793ef34919b643b4867b1386ba60d010"
            }
          },
          "metadata": {}
        },
        {
          "output_type": "display_data",
          "data": {
            "text/plain": [],
            "text/html": [
              "<pre style=\"white-space:pre;overflow-x:auto;line-height:normal;font-family:Menlo,'DejaVu Sans Mono',consolas,'Courier New',monospace\"></pre>\n"
            ]
          },
          "metadata": {}
        },
        {
          "output_type": "display_data",
          "data": {
            "text/plain": [
              "\n"
            ],
            "text/html": [
              "<pre style=\"white-space:pre;overflow-x:auto;line-height:normal;font-family:Menlo,'DejaVu Sans Mono',consolas,'Courier New',monospace\">\n",
              "</pre>\n"
            ]
          },
          "metadata": {}
        },
        {
          "output_type": "display_data",
          "data": {
            "text/plain": [
              "\u001b[3m                    Last 2 Games                    \u001b[0m\n",
              "    ╷          ╷       ╷        ╷         ╷         \n",
              " \u001b[1m \u001b[0m\u001b[1m#\u001b[0m\u001b[1m \u001b[0m│\u001b[1m \u001b[0m\u001b[1mSEATING \u001b[0m\u001b[1m \u001b[0m│\u001b[1m \u001b[0m\u001b[1mTURNS\u001b[0m\u001b[1m \u001b[0m│\u001b[1m \u001b[0m\u001b[1mRED VP\u001b[0m\u001b[1m \u001b[0m│\u001b[1m \u001b[0m\u001b[1mBLUE VP\u001b[0m\u001b[1m \u001b[0m│\u001b[1m \u001b[0m\u001b[1mWINNER\u001b[0m\u001b[1m \u001b[0m \n",
              "╶───┼──────────┼───────┼────────┼─────────┼────────╴\n",
              "  1 │ \u001b[31mRED\u001b[0m,\u001b[34mBLUE\u001b[0m │    89 │      4 │      10 │ \u001b[34mBLUE\u001b[0m    \n",
              "  2 │ \u001b[31mRED\u001b[0m,\u001b[34mBLUE\u001b[0m │    61 │      3 │      10 │ \u001b[34mBLUE\u001b[0m    \n",
              "    ╵          ╵       ╵        ╵         ╵         \n"
            ],
            "text/html": [
              "<pre style=\"white-space:pre;overflow-x:auto;line-height:normal;font-family:Menlo,'DejaVu Sans Mono',consolas,'Courier New',monospace\"><span style=\"font-style: italic\">                    Last 2 Games                    </span>\n",
              "    ╷          ╷       ╷        ╷         ╷         \n",
              " <span style=\"font-weight: bold\"> # </span>│<span style=\"font-weight: bold\"> SEATING  </span>│<span style=\"font-weight: bold\"> TURNS </span>│<span style=\"font-weight: bold\"> RED VP </span>│<span style=\"font-weight: bold\"> BLUE VP </span>│<span style=\"font-weight: bold\"> WINNER </span> \n",
              "╶───┼──────────┼───────┼────────┼─────────┼────────╴\n",
              "  1 │ <span style=\"color: #800000; text-decoration-color: #800000\">RED</span>,<span style=\"color: #000080; text-decoration-color: #000080\">BLUE</span> │    89 │      4 │      10 │ <span style=\"color: #000080; text-decoration-color: #000080\">BLUE</span>    \n",
              "  2 │ <span style=\"color: #800000; text-decoration-color: #800000\">RED</span>,<span style=\"color: #000080; text-decoration-color: #000080\">BLUE</span> │    61 │      3 │      10 │ <span style=\"color: #000080; text-decoration-color: #000080\">BLUE</span>    \n",
              "    ╵          ╵       ╵        ╵         ╵         \n",
              "</pre>\n"
            ]
          },
          "metadata": {}
        },
        {
          "output_type": "display_data",
          "data": {
            "text/plain": [
              "\u001b[3m                                                  Player Summary                                                   \u001b[0m\n",
              "                                                                    ╷      ╷      ╷     ╷      ╷     ╷      ╷      \n",
              " \u001b[1m                                                                   \u001b[0m│\u001b[1m      \u001b[0m│\u001b[1m      \u001b[0m│\u001b[1m     \u001b[0m│\u001b[1m      \u001b[0m│\u001b[1m     \u001b[0m│\u001b[1m      \u001b[0m│\u001b[1m \u001b[0m\u001b[1mAVG\u001b[0m\u001b[1m \u001b[0m \n",
              " \u001b[1m                                                                   \u001b[0m│\u001b[1m      \u001b[0m│\u001b[1m \u001b[0m\u001b[1m AVG\u001b[0m\u001b[1m \u001b[0m│\u001b[1m \u001b[0m\u001b[1mAVG\u001b[0m\u001b[1m \u001b[0m│\u001b[1m \u001b[0m\u001b[1m AVG\u001b[0m\u001b[1m \u001b[0m│\u001b[1m \u001b[0m\u001b[1mAVG\u001b[0m\u001b[1m \u001b[0m│\u001b[1m \u001b[0m\u001b[1m AVG\u001b[0m\u001b[1m \u001b[0m│\u001b[1m \u001b[0m\u001b[1mDEV\u001b[0m\u001b[1m \u001b[0m \n",
              " \u001b[1m \u001b[0m\u001b[1m                                                                 \u001b[0m\u001b[1m \u001b[0m│\u001b[1m \u001b[0m\u001b[1mWINS\u001b[0m\u001b[1m \u001b[0m│\u001b[1m \u001b[0m\u001b[1m  VP\u001b[0m\u001b[1m \u001b[0m│\u001b[1m \u001b[0m\u001b[1mSE…\u001b[0m\u001b[1m \u001b[0m│\u001b[1m \u001b[0m\u001b[1mCIT…\u001b[0m\u001b[1m \u001b[0m│\u001b[1m \u001b[0m\u001b[1mRO…\u001b[0m\u001b[1m \u001b[0m│\u001b[1m \u001b[0m\u001b[1mARMY\u001b[0m\u001b[1m \u001b[0m│\u001b[1m \u001b[0m\u001b[1m VP\u001b[0m\u001b[1m \u001b[0m \n",
              "╶───────────────────────────────────────────────────────────────────┼──────┼──────┼─────┼──────┼─────┼──────┼─────╴\n",
              "  \u001b[31mAlphaBetaPlayer:RED(depth=2,value_fn=contender_fn,prunning=False)\u001b[0m │    0 │ 3.50 │ 2.… │ 0.00 │ 0.… │ 0.00 │ 0.…  \n",
              "  \u001b[34mAlphaBetaPlayer:BLUE(depth=2,value_fn=base_fn,prunning=False)\u001b[0m     │    2 │ 10.… │ 4.… │ 2.50 │ 0.… │ 0.00 │ 0.…  \n",
              "                                                                    ╵      ╵      ╵     ╵      ╵     ╵      ╵      \n"
            ],
            "text/html": [
              "<pre style=\"white-space:pre;overflow-x:auto;line-height:normal;font-family:Menlo,'DejaVu Sans Mono',consolas,'Courier New',monospace\"><span style=\"font-style: italic\">                                                  Player Summary                                                   </span>\n",
              "                                                                    ╷      ╷      ╷     ╷      ╷     ╷      ╷      \n",
              " <span style=\"font-weight: bold\">                                                                   </span>│<span style=\"font-weight: bold\">      </span>│<span style=\"font-weight: bold\">      </span>│<span style=\"font-weight: bold\">     </span>│<span style=\"font-weight: bold\">      </span>│<span style=\"font-weight: bold\">     </span>│<span style=\"font-weight: bold\">      </span>│<span style=\"font-weight: bold\"> AVG </span> \n",
              " <span style=\"font-weight: bold\">                                                                   </span>│<span style=\"font-weight: bold\">      </span>│<span style=\"font-weight: bold\">  AVG </span>│<span style=\"font-weight: bold\"> AVG </span>│<span style=\"font-weight: bold\">  AVG </span>│<span style=\"font-weight: bold\"> AVG </span>│<span style=\"font-weight: bold\">  AVG </span>│<span style=\"font-weight: bold\"> DEV </span> \n",
              " <span style=\"font-weight: bold\">                                                                   </span>│<span style=\"font-weight: bold\"> WINS </span>│<span style=\"font-weight: bold\">   VP </span>│<span style=\"font-weight: bold\"> SE… </span>│<span style=\"font-weight: bold\"> CIT… </span>│<span style=\"font-weight: bold\"> RO… </span>│<span style=\"font-weight: bold\"> ARMY </span>│<span style=\"font-weight: bold\">  VP </span> \n",
              "╶───────────────────────────────────────────────────────────────────┼──────┼──────┼─────┼──────┼─────┼──────┼─────╴\n",
              "  <span style=\"color: #800000; text-decoration-color: #800000\">AlphaBetaPlayer:RED(depth=2,value_fn=contender_fn,prunning=False)</span> │    0 │ 3.50 │ 2.… │ 0.00 │ 0.… │ 0.00 │ 0.…  \n",
              "  <span style=\"color: #000080; text-decoration-color: #000080\">AlphaBetaPlayer:BLUE(depth=2,value_fn=base_fn,prunning=False)</span>     │    2 │ 10.… │ 4.… │ 2.50 │ 0.… │ 0.00 │ 0.…  \n",
              "                                                                    ╵      ╵      ╵     ╵      ╵     ╵      ╵      \n",
              "</pre>\n"
            ]
          },
          "metadata": {}
        },
        {
          "output_type": "display_data",
          "data": {
            "text/plain": [
              "\u001b[3m              Game Summary              \u001b[0m\n",
              "            ╷           ╷               \n",
              " \u001b[1m \u001b[0m\u001b[1mAVG TICKS\u001b[0m\u001b[1m \u001b[0m│\u001b[1m \u001b[0m\u001b[1mAVG TURNS\u001b[0m\u001b[1m \u001b[0m│\u001b[1m \u001b[0m\u001b[1mAVG DURATION\u001b[0m\u001b[1m \u001b[0m \n",
              "╶───────────┼───────────┼──────────────╴\n",
              "     208.50 │     75.00 │   7.317 secs  \n",
              "            ╵           ╵               \n"
            ],
            "text/html": [
              "<pre style=\"white-space:pre;overflow-x:auto;line-height:normal;font-family:Menlo,'DejaVu Sans Mono',consolas,'Courier New',monospace\"><span style=\"font-style: italic\">              Game Summary              </span>\n",
              "            ╷           ╷               \n",
              " <span style=\"font-weight: bold\"> AVG TICKS </span>│<span style=\"font-weight: bold\"> AVG TURNS </span>│<span style=\"font-weight: bold\"> AVG DURATION </span> \n",
              "╶───────────┼───────────┼──────────────╴\n",
              "     208.50 │     75.00 │   7.317 secs  \n",
              "            ╵           ╵               \n",
              "</pre>\n"
            ]
          },
          "metadata": {}
        }
      ],
      "source": [
        "players = [\n",
        "    AlphaBetaPlayer(Color.RED, params=test_weights, value_fn_builder_name=\"C\"),\n",
        "    AlphaBetaPlayer(Color.BLUE)\n",
        "]\n",
        "\n",
        "wins, results_by_player, games = play_batch(2, players)"
      ]
    },
    {
      "cell_type": "code",
      "source": [],
      "metadata": {
        "id": "-a-s1Uh2rpVb"
      },
      "execution_count": null,
      "outputs": []
    }
  ],
  "metadata": {
    "language_info": {
      "name": "python"
    },
    "colab": {
      "provenance": []
    },
    "kernelspec": {
      "name": "python3",
      "display_name": "Python 3"
    },
    "widgets": {
      "application/vnd.jupyter.widget-state+json": {
        "793ef34919b643b4867b1386ba60d010": {
          "model_module": "@jupyter-widgets/output",
          "model_name": "OutputModel",
          "model_module_version": "1.0.0",
          "state": {
            "_dom_classes": [],
            "_model_module": "@jupyter-widgets/output",
            "_model_module_version": "1.0.0",
            "_model_name": "OutputModel",
            "_view_count": null,
            "_view_module": "@jupyter-widgets/output",
            "_view_module_version": "1.0.0",
            "_view_name": "OutputView",
            "layout": "IPY_MODEL_97a3ab55498c472cb8d8593626d94d6a",
            "msg_id": "",
            "outputs": [
              {
                "output_type": "display_data",
                "data": {
                  "text/plain": "Playing 2 games...                                                \u001b[32m━━━━━━━━━━━━━━━━━━━━━━━━━━━━━━━━━━━━\u001b[0m 100% 0:00:00\n\u001b[31mAlphaBetaPlayer:RED(depth=2,value_fn=contender_fn,prunning=False)\u001b[0m \u001b[38;5;237m━━━━━━━━━━━━━━━━━━━━━━━━━━━━━━━━━━━━\u001b[0m   0%        \n\u001b[34mAlphaBetaPlayer:BLUE(depth=2,value_fn=base_fn,prunning=False)\u001b[0m     \u001b[32m━━━━━━━━━━━━━━━━━━━━━━━━━━━━━━━━━━━━\u001b[0m 100%        \n",
                  "text/html": "<pre style=\"white-space:pre;overflow-x:auto;line-height:normal;font-family:Menlo,'DejaVu Sans Mono',consolas,'Courier New',monospace\">Playing 2 games...                                                <span style=\"color: #008000; text-decoration-color: #008000\">━━━━━━━━━━━━━━━━━━━━━━━━━━━━━━━━━━━━</span> 100% 0:00:00\n<span style=\"color: #800000; text-decoration-color: #800000\">AlphaBetaPlayer:RED(depth=2,value_fn=contender_fn,prunning=False)</span> <span style=\"color: #3a3a3a; text-decoration-color: #3a3a3a\">━━━━━━━━━━━━━━━━━━━━━━━━━━━━━━━━━━━━</span>   0%        \n<span style=\"color: #000080; text-decoration-color: #000080\">AlphaBetaPlayer:BLUE(depth=2,value_fn=base_fn,prunning=False)</span>     <span style=\"color: #008000; text-decoration-color: #008000\">━━━━━━━━━━━━━━━━━━━━━━━━━━━━━━━━━━━━</span> 100%        \n</pre>\n"
                },
                "metadata": {}
              }
            ]
          }
        },
        "97a3ab55498c472cb8d8593626d94d6a": {
          "model_module": "@jupyter-widgets/base",
          "model_name": "LayoutModel",
          "model_module_version": "1.2.0",
          "state": {
            "_model_module": "@jupyter-widgets/base",
            "_model_module_version": "1.2.0",
            "_model_name": "LayoutModel",
            "_view_count": null,
            "_view_module": "@jupyter-widgets/base",
            "_view_module_version": "1.2.0",
            "_view_name": "LayoutView",
            "align_content": null,
            "align_items": null,
            "align_self": null,
            "border": null,
            "bottom": null,
            "display": null,
            "flex": null,
            "flex_flow": null,
            "grid_area": null,
            "grid_auto_columns": null,
            "grid_auto_flow": null,
            "grid_auto_rows": null,
            "grid_column": null,
            "grid_gap": null,
            "grid_row": null,
            "grid_template_areas": null,
            "grid_template_columns": null,
            "grid_template_rows": null,
            "height": null,
            "justify_content": null,
            "justify_items": null,
            "left": null,
            "margin": null,
            "max_height": null,
            "max_width": null,
            "min_height": null,
            "min_width": null,
            "object_fit": null,
            "object_position": null,
            "order": null,
            "overflow": null,
            "overflow_x": null,
            "overflow_y": null,
            "padding": null,
            "right": null,
            "top": null,
            "visibility": null,
            "width": null
          }
        }
      }
    }
  },
  "nbformat": 4,
  "nbformat_minor": 0
}