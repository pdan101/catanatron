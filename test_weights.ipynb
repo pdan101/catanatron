{
 "cells": [
  {
   "cell_type": "code",
   "execution_count": null,
   "metadata": {},
   "outputs": [],
   "source": [
    "from catanatron import Game, RandomPlayer, Color\n",
    "\n",
    "from catanatron_experimental.machine_learning.players.minimax import AlphaBetaPlayer\n",
    "from catanatron_experimental.play import play_batch\n",
    "\n",
    "from catanatron_experimental.machine_learning.players.value import DEFAULT_WEIGHTS\n"
   ]
  },
  {
   "cell_type": "code",
   "execution_count": null,
   "metadata": {},
   "outputs": [],
   "source": [
    "test_weights = DEFAULT_WEIGHTS.copy()\n",
    "for k, v in test_weights.items():\n",
    "    test_weights[k] = 0\n",
    "test_weights['enemy_production'] = -5e8"
   ]
  },
  {
   "cell_type": "code",
   "execution_count": null,
   "metadata": {},
   "outputs": [],
   "source": [
    "players = [\n",
    "    AlphaBetaPlayer(Color.RED, params=test_weights, value_fn_builder_name=\"C\"),\n",
    "    AlphaBetaPlayer(Color.BLUE)\n",
    "]\n",
    "\n",
    "wins, results_by_player, games = play_batch(2, players)"
   ]
  }
 ],
 "metadata": {
  "language_info": {
   "name": "python"
  }
 },
 "nbformat": 4,
 "nbformat_minor": 2
}
