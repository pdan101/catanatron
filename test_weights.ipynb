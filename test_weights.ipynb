{
  "cells": [
    {
      "cell_type": "code",
      "source": [
        "!git clone https://github.com/pdan101/catanatron.git\n",
        "!pip install -r catanatron/dev-requirements.txt\n",
        "!pip install -e catanatron/catanatron_core\n",
        "!pip install -e catanatron/catanatron_server\n",
        "!pip install -e catanatron/catanatron_gym\n",
        "!pip install -e catanatron/catanatron_experimental\n",
        "exit() # Forcefully restart runtime to picks up installed requirements"
      ],
      "metadata": {
        "colab": {
          "base_uri": "https://localhost:8080/"
        },
        "id": "h0573qysrTWX",
        "outputId": "706b9f22-adc4-4607-e559-b63fa9d76087"
      },
      "execution_count": 1,
      "outputs": [
        {
          "output_type": "stream",
          "name": "stdout",
          "text": [
            "Cloning into 'catanatron'...\n",
            "remote: Enumerating objects: 6543, done.\u001b[K\n",
            "remote: Counting objects: 100% (378/378), done.\u001b[K\n",
            "remote: Compressing objects: 100% (247/247), done.\u001b[K\n",
            "remote: Total 6543 (delta 202), reused 268 (delta 121), pack-reused 6165\u001b[K\n",
            "Receiving objects: 100% (6543/6543), 44.39 MiB | 12.61 MiB/s, done.\n",
            "Resolving deltas: 100% (4014/4014), done.\n",
            "Collecting absl-py==1.0.0 (from -r catanatron/dev-requirements.txt (line 1))\n",
            "  Downloading absl_py-1.0.0-py3-none-any.whl (126 kB)\n",
            "\u001b[2K     \u001b[90m━━━━━━━━━━━━━━━━━━━━━━━━━━━━━━━━━━━━━━━━\u001b[0m \u001b[32m126.7/126.7 kB\u001b[0m \u001b[31m1.8 MB/s\u001b[0m eta \u001b[36m0:00:00\u001b[0m\n",
            "\u001b[?25hRequirement already satisfied: astunparse==1.6.3 in /usr/local/lib/python3.10/dist-packages (from -r catanatron/dev-requirements.txt (line 2)) (1.6.3)\n",
            "Collecting attrs==21.4.0 (from -r catanatron/dev-requirements.txt (line 3))\n",
            "  Downloading attrs-21.4.0-py2.py3-none-any.whl (60 kB)\n",
            "\u001b[2K     \u001b[90m━━━━━━━━━━━━━━━━━━━━━━━━━━━━━━━━━━━━━━━━\u001b[0m \u001b[32m60.6/60.6 kB\u001b[0m \u001b[31m8.9 MB/s\u001b[0m eta \u001b[36m0:00:00\u001b[0m\n",
            "\u001b[?25hCollecting black==22.1.0 (from -r catanatron/dev-requirements.txt (line 4))\n",
            "  Downloading black-22.1.0-cp310-cp310-manylinux_2_17_x86_64.manylinux2014_x86_64.whl (1.5 MB)\n",
            "\u001b[2K     \u001b[90m━━━━━━━━━━━━━━━━━━━━━━━━━━━━━━━━━━━━━━━━\u001b[0m \u001b[32m1.5/1.5 MB\u001b[0m \u001b[31m24.1 MB/s\u001b[0m eta \u001b[36m0:00:00\u001b[0m\n",
            "\u001b[?25hCollecting cachetools==5.0.0 (from -r catanatron/dev-requirements.txt (line 5))\n",
            "  Downloading cachetools-5.0.0-py3-none-any.whl (9.1 kB)\n",
            "Collecting certifi==2021.10.8 (from -r catanatron/dev-requirements.txt (line 6))\n",
            "  Downloading certifi-2021.10.8-py2.py3-none-any.whl (149 kB)\n",
            "\u001b[2K     \u001b[90m━━━━━━━━━━━━━━━━━━━━━━━━━━━━━━━━━━━━━━━━\u001b[0m \u001b[32m149.2/149.2 kB\u001b[0m \u001b[31m12.4 MB/s\u001b[0m eta \u001b[36m0:00:00\u001b[0m\n",
            "\u001b[?25hCollecting charset-normalizer==2.0.11 (from -r catanatron/dev-requirements.txt (line 7))\n",
            "  Downloading charset_normalizer-2.0.11-py3-none-any.whl (39 kB)\n",
            "Collecting click==8.0.3 (from -r catanatron/dev-requirements.txt (line 8))\n",
            "  Downloading click-8.0.3-py3-none-any.whl (97 kB)\n",
            "\u001b[2K     \u001b[90m━━━━━━━━━━━━━━━━━━━━━━━━━━━━━━━━━━━━━━━━\u001b[0m \u001b[32m97.5/97.5 kB\u001b[0m \u001b[31m14.6 MB/s\u001b[0m eta \u001b[36m0:00:00\u001b[0m\n",
            "\u001b[?25hCollecting cloudpickle==2.0.0 (from -r catanatron/dev-requirements.txt (line 9))\n",
            "  Downloading cloudpickle-2.0.0-py3-none-any.whl (25 kB)\n",
            "Collecting colorama==0.4.4 (from -r catanatron/dev-requirements.txt (line 10))\n",
            "  Downloading colorama-0.4.4-py2.py3-none-any.whl (16 kB)\n",
            "Collecting commonmark==0.9.1 (from -r catanatron/dev-requirements.txt (line 11))\n",
            "  Downloading commonmark-0.9.1-py2.py3-none-any.whl (51 kB)\n",
            "\u001b[2K     \u001b[90m━━━━━━━━━━━━━━━━━━━━━━━━━━━━━━━━━━━━━━━━\u001b[0m \u001b[32m51.1/51.1 kB\u001b[0m \u001b[31m8.0 MB/s\u001b[0m eta \u001b[36m0:00:00\u001b[0m\n",
            "\u001b[?25hCollecting coverage==6.3.1 (from -r catanatron/dev-requirements.txt (line 12))\n",
            "  Downloading coverage-6.3.1-cp310-cp310-manylinux_2_5_x86_64.manylinux1_x86_64.manylinux_2_17_x86_64.manylinux2014_x86_64.whl (210 kB)\n",
            "\u001b[2K     \u001b[90m━━━━━━━━━━━━━━━━━━━━━━━━━━━━━━━━━━━━━━━━\u001b[0m \u001b[32m210.6/210.6 kB\u001b[0m \u001b[31m29.0 MB/s\u001b[0m eta \u001b[36m0:00:00\u001b[0m\n",
            "\u001b[?25hCollecting coveralls==3.3.1 (from -r catanatron/dev-requirements.txt (line 13))\n",
            "  Downloading coveralls-3.3.1-py2.py3-none-any.whl (14 kB)\n",
            "Collecting docopt==0.6.2 (from -r catanatron/dev-requirements.txt (line 14))\n",
            "  Downloading docopt-0.6.2.tar.gz (25 kB)\n",
            "  Preparing metadata (setup.py) ... \u001b[?25l\u001b[?25hdone\n",
            "Collecting Flask==2.0.2 (from -r catanatron/dev-requirements.txt (line 15))\n",
            "  Downloading Flask-2.0.2-py3-none-any.whl (95 kB)\n",
            "\u001b[2K     \u001b[90m━━━━━━━━━━━━━━━━━━━━━━━━━━━━━━━━━━━━━━━━\u001b[0m \u001b[32m95.2/95.2 kB\u001b[0m \u001b[31m11.5 MB/s\u001b[0m eta \u001b[36m0:00:00\u001b[0m\n",
            "\u001b[?25hCollecting Flask-Cors==3.0.10 (from -r catanatron/dev-requirements.txt (line 16))\n",
            "  Downloading Flask_Cors-3.0.10-py2.py3-none-any.whl (14 kB)\n",
            "Collecting Flask-SQLAlchemy==2.5.1 (from -r catanatron/dev-requirements.txt (line 17))\n",
            "  Downloading Flask_SQLAlchemy-2.5.1-py2.py3-none-any.whl (17 kB)\n",
            "Collecting flatbuffers==2.0 (from -r catanatron/dev-requirements.txt (line 18))\n",
            "  Downloading flatbuffers-2.0-py2.py3-none-any.whl (26 kB)\n",
            "Collecting gast==0.5.3 (from -r catanatron/dev-requirements.txt (line 19))\n",
            "  Downloading gast-0.5.3-py3-none-any.whl (19 kB)\n",
            "Collecting google-auth==2.6.0 (from -r catanatron/dev-requirements.txt (line 20))\n",
            "  Downloading google_auth-2.6.0-py2.py3-none-any.whl (156 kB)\n",
            "\u001b[2K     \u001b[90m━━━━━━━━━━━━━━━━━━━━━━━━━━━━━━━━━━━━━━━━\u001b[0m \u001b[32m156.3/156.3 kB\u001b[0m \u001b[31m23.0 MB/s\u001b[0m eta \u001b[36m0:00:00\u001b[0m\n",
            "\u001b[?25hCollecting google-auth-oauthlib==0.4.6 (from -r catanatron/dev-requirements.txt (line 21))\n",
            "  Downloading google_auth_oauthlib-0.4.6-py2.py3-none-any.whl (18 kB)\n",
            "Requirement already satisfied: google-pasta==0.2.0 in /usr/local/lib/python3.10/dist-packages (from -r catanatron/dev-requirements.txt (line 22)) (0.2.0)\n",
            "Collecting greenlet==1.1.2 (from -r catanatron/dev-requirements.txt (line 23))\n",
            "  Downloading greenlet-1.1.2-cp310-cp310-manylinux_2_17_x86_64.manylinux2014_x86_64.whl (155 kB)\n",
            "\u001b[2K     \u001b[90m━━━━━━━━━━━━━━━━━━━━━━━━━━━━━━━━━━━━━━━━\u001b[0m \u001b[32m155.4/155.4 kB\u001b[0m \u001b[31m23.5 MB/s\u001b[0m eta \u001b[36m0:00:00\u001b[0m\n",
            "\u001b[?25hCollecting grpcio==1.43.0 (from -r catanatron/dev-requirements.txt (line 24))\n",
            "  Downloading grpcio-1.43.0-cp310-cp310-manylinux_2_17_x86_64.manylinux2014_x86_64.whl (4.1 MB)\n",
            "\u001b[2K     \u001b[90m━━━━━━━━━━━━━━━━━━━━━━━━━━━━━━━━━━━━━━━━\u001b[0m \u001b[32m4.1/4.1 MB\u001b[0m \u001b[31m54.7 MB/s\u001b[0m eta \u001b[36m0:00:00\u001b[0m\n",
            "\u001b[?25hCollecting gym==0.21.0 (from -r catanatron/dev-requirements.txt (line 25))\n",
            "  Downloading gym-0.21.0.tar.gz (1.5 MB)\n",
            "\u001b[2K     \u001b[90m━━━━━━━━━━━━━━━━━━━━━━━━━━━━━━━━━━━━━━━━\u001b[0m \u001b[32m1.5/1.5 MB\u001b[0m \u001b[31m56.3 MB/s\u001b[0m eta \u001b[36m0:00:00\u001b[0m\n",
            "\u001b[?25h  \u001b[1;31merror\u001b[0m: \u001b[1msubprocess-exited-with-error\u001b[0m\n",
            "  \n",
            "  \u001b[31m×\u001b[0m \u001b[32mpython setup.py egg_info\u001b[0m did not run successfully.\n",
            "  \u001b[31m│\u001b[0m exit code: \u001b[1;36m1\u001b[0m\n",
            "  \u001b[31m╰─>\u001b[0m See above for output.\n",
            "  \n",
            "  \u001b[1;35mnote\u001b[0m: This error originates from a subprocess, and is likely not a problem with pip.\n",
            "  Preparing metadata (setup.py) ... \u001b[?25l\u001b[?25herror\n",
            "\u001b[1;31merror\u001b[0m: \u001b[1mmetadata-generation-failed\u001b[0m\n",
            "\n",
            "\u001b[31m×\u001b[0m Encountered error while generating package metadata.\n",
            "\u001b[31m╰─>\u001b[0m See above for output.\n",
            "\n",
            "\u001b[1;35mnote\u001b[0m: This is an issue with the package mentioned above, not pip.\n",
            "\u001b[1;36mhint\u001b[0m: See above for details.\n",
            "Obtaining file:///content/catanatron/catanatron_core\n",
            "  Preparing metadata (setup.py) ... \u001b[?25l\u001b[?25hdone\n",
            "Requirement already satisfied: networkx in /usr/local/lib/python3.10/dist-packages (from catanatron==3.2.1) (3.2.1)\n",
            "Installing collected packages: catanatron\n",
            "  Running setup.py develop for catanatron\n",
            "Successfully installed catanatron-3.2.1\n",
            "Obtaining file:///content/catanatron/catanatron_server\n",
            "  Preparing metadata (setup.py) ... \u001b[?25l\u001b[?25hdone\n",
            "Requirement already satisfied: catanatron in ./catanatron/catanatron_core (from catanatron-server==1.0.0) (3.2.1)\n",
            "Requirement already satisfied: flask in /usr/local/lib/python3.10/dist-packages (from catanatron-server==1.0.0) (2.2.5)\n",
            "Collecting flask_cors (from catanatron-server==1.0.0)\n",
            "  Downloading Flask_Cors-4.0.0-py2.py3-none-any.whl (14 kB)\n",
            "Collecting flask_sqlalchemy (from catanatron-server==1.0.0)\n",
            "  Downloading flask_sqlalchemy-3.1.1-py3-none-any.whl (25 kB)\n",
            "Requirement already satisfied: sqlalchemy in /usr/local/lib/python3.10/dist-packages (from catanatron-server==1.0.0) (2.0.23)\n",
            "Collecting psycopg2-binary (from catanatron-server==1.0.0)\n",
            "  Downloading psycopg2_binary-2.9.9-cp310-cp310-manylinux_2_17_x86_64.manylinux2014_x86_64.whl (3.0 MB)\n",
            "\u001b[2K     \u001b[90m━━━━━━━━━━━━━━━━━━━━━━━━━━━━━━━━━━━━━━━━\u001b[0m \u001b[32m3.0/3.0 MB\u001b[0m \u001b[31m32.9 MB/s\u001b[0m eta \u001b[36m0:00:00\u001b[0m\n",
            "\u001b[?25hRequirement already satisfied: networkx in /usr/local/lib/python3.10/dist-packages (from catanatron->catanatron-server==1.0.0) (3.2.1)\n",
            "Requirement already satisfied: Werkzeug>=2.2.2 in /usr/local/lib/python3.10/dist-packages (from flask->catanatron-server==1.0.0) (3.0.1)\n",
            "Requirement already satisfied: Jinja2>=3.0 in /usr/local/lib/python3.10/dist-packages (from flask->catanatron-server==1.0.0) (3.1.2)\n",
            "Requirement already satisfied: itsdangerous>=2.0 in /usr/local/lib/python3.10/dist-packages (from flask->catanatron-server==1.0.0) (2.1.2)\n",
            "Requirement already satisfied: click>=8.0 in /usr/local/lib/python3.10/dist-packages (from flask->catanatron-server==1.0.0) (8.1.7)\n",
            "Requirement already satisfied: typing-extensions>=4.2.0 in /usr/local/lib/python3.10/dist-packages (from sqlalchemy->catanatron-server==1.0.0) (4.5.0)\n",
            "Requirement already satisfied: greenlet!=0.4.17 in /usr/local/lib/python3.10/dist-packages (from sqlalchemy->catanatron-server==1.0.0) (3.0.1)\n",
            "Requirement already satisfied: MarkupSafe>=2.0 in /usr/local/lib/python3.10/dist-packages (from Jinja2>=3.0->flask->catanatron-server==1.0.0) (2.1.3)\n",
            "Installing collected packages: psycopg2-binary, flask_sqlalchemy, flask_cors, catanatron-server\n",
            "  Running setup.py develop for catanatron-server\n",
            "Successfully installed catanatron-server-1.0.0 flask_cors-4.0.0 flask_sqlalchemy-3.1.1 psycopg2-binary-2.9.9\n",
            "Obtaining file:///content/catanatron/catanatron_gym\n",
            "  Preparing metadata (setup.py) ... \u001b[?25l\u001b[?25hdone\n",
            "Requirement already satisfied: catanatron in ./catanatron/catanatron_core (from catanatron-gym==3.2.1) (3.2.1)\n",
            "Collecting gymnasium (from catanatron-gym==3.2.1)\n",
            "  Downloading gymnasium-0.29.1-py3-none-any.whl (953 kB)\n",
            "\u001b[2K     \u001b[90m━━━━━━━━━━━━━━━━━━━━━━━━━━━━━━━━━━━━━━━━\u001b[0m \u001b[32m953.9/953.9 kB\u001b[0m \u001b[31m11.6 MB/s\u001b[0m eta \u001b[36m0:00:00\u001b[0m\n",
            "\u001b[?25hRequirement already satisfied: numpy in /usr/local/lib/python3.10/dist-packages (from catanatron-gym==3.2.1) (1.23.5)\n",
            "Requirement already satisfied: networkx in /usr/local/lib/python3.10/dist-packages (from catanatron->catanatron-gym==3.2.1) (3.2.1)\n",
            "Requirement already satisfied: cloudpickle>=1.2.0 in /usr/local/lib/python3.10/dist-packages (from gymnasium->catanatron-gym==3.2.1) (2.2.1)\n",
            "Requirement already satisfied: typing-extensions>=4.3.0 in /usr/local/lib/python3.10/dist-packages (from gymnasium->catanatron-gym==3.2.1) (4.5.0)\n",
            "Collecting farama-notifications>=0.0.1 (from gymnasium->catanatron-gym==3.2.1)\n",
            "  Downloading Farama_Notifications-0.0.4-py3-none-any.whl (2.5 kB)\n",
            "Installing collected packages: farama-notifications, gymnasium, catanatron-gym\n",
            "  Running setup.py develop for catanatron-gym\n",
            "Successfully installed catanatron-gym-3.2.1 farama-notifications-0.0.4 gymnasium-0.29.1\n",
            "Obtaining file:///content/catanatron/catanatron_experimental\n",
            "  Preparing metadata (setup.py) ... \u001b[?25l\u001b[?25hdone\n",
            "Requirement already satisfied: rich in /usr/local/lib/python3.10/dist-packages (from catanatron-experimental==1.0.0) (13.6.0)\n",
            "Requirement already satisfied: markdown-it-py>=2.2.0 in /usr/local/lib/python3.10/dist-packages (from rich->catanatron-experimental==1.0.0) (3.0.0)\n",
            "Requirement already satisfied: pygments<3.0.0,>=2.13.0 in /usr/local/lib/python3.10/dist-packages (from rich->catanatron-experimental==1.0.0) (2.16.1)\n",
            "Requirement already satisfied: mdurl~=0.1 in /usr/local/lib/python3.10/dist-packages (from markdown-it-py>=2.2.0->rich->catanatron-experimental==1.0.0) (0.1.2)\n",
            "Installing collected packages: catanatron-experimental\n",
            "  Running setup.py develop for catanatron-experimental\n",
            "Successfully installed catanatron-experimental-1.0.0\n"
          ]
        }
      ]
    },
    {
      "cell_type": "code",
      "source": [
        "# Avoids scroll-in-the-scroll in the entire Notebook\n",
        "from IPython.display import Javascript\n",
        "def resize_colab_cell():\n",
        "  display(Javascript('google.colab.output.setIframeHeight(0, true, {maxHeight: 5000, maxWidth:10000})'))\n",
        "get_ipython().events.register('pre_run_cell', resize_colab_cell)"
      ],
      "metadata": {
        "id": "SjOELHJ2wOuF"
      },
      "execution_count": 1,
      "outputs": []
    },
    {
      "cell_type": "code",
      "execution_count": 2,
      "metadata": {
        "id": "efsBK7rgrR_u",
        "outputId": "1d2ccae9-b372-4eb7-a820-b55af7687761",
        "colab": {
          "base_uri": "https://localhost:8080/",
          "height": 17
        }
      },
      "outputs": [
        {
          "output_type": "display_data",
          "data": {
            "text/plain": [
              "<IPython.core.display.Javascript object>"
            ],
            "application/javascript": [
              "google.colab.output.setIframeHeight(0, true, {maxHeight: 5000, maxWidth:10000})"
            ]
          },
          "metadata": {}
        }
      ],
      "source": [
        "from catanatron import Game, RandomPlayer, Color\n",
        "\n",
        "from catanatron_experimental.machine_learning.players.minimax import AlphaBetaPlayer\n",
        "from catanatron_experimental.play import play_batch\n",
        "\n",
        "from catanatron_experimental.machine_learning.players.value import DEFAULT_WEIGHTS\n"
      ]
    },
    {
      "cell_type": "code",
      "execution_count": 3,
      "metadata": {
        "id": "m4ufD8h9rR_w",
        "outputId": "f7e1d52e-d523-4389-f466-9b9a7575f694",
        "colab": {
          "base_uri": "https://localhost:8080/",
          "height": 17
        }
      },
      "outputs": [
        {
          "output_type": "display_data",
          "data": {
            "text/plain": [
              "<IPython.core.display.Javascript object>"
            ],
            "application/javascript": [
              "google.colab.output.setIframeHeight(0, true, {maxHeight: 5000, maxWidth:10000})"
            ]
          },
          "metadata": {}
        }
      ],
      "source": [
        "test_weights = DEFAULT_WEIGHTS.copy()\n",
        "for k, v in test_weights.items():\n",
        "    test_weights[k] = 0\n",
        "test_weights['enemy_production'] = -5e12\n",
        "# test_weights['num_tiles'] = 1"
      ]
    },
    {
      "cell_type": "code",
      "execution_count": 5,
      "metadata": {
        "colab": {
          "base_uri": "https://localhost:8080/",
          "height": 545,
          "referenced_widgets": [
            "18d25d56a92940f999c296d01f204132",
            "a6b38ad17da44205a09aa325b85fc95e"
          ]
        },
        "id": "e1VGsCrRrR_w",
        "outputId": "ccc43b61-ede6-4734-ee65-9d019a120afa"
      },
      "outputs": [
        {
          "output_type": "display_data",
          "data": {
            "text/plain": [
              "<IPython.core.display.Javascript object>"
            ],
            "application/javascript": [
              "google.colab.output.setIframeHeight(0, true, {maxHeight: 5000, maxWidth:10000})"
            ]
          },
          "metadata": {}
        },
        {
          "output_type": "display_data",
          "data": {
            "text/plain": [
              "Output()"
            ],
            "application/vnd.jupyter.widget-view+json": {
              "version_major": 2,
              "version_minor": 0,
              "model_id": "18d25d56a92940f999c296d01f204132"
            }
          },
          "metadata": {}
        },
        {
          "output_type": "display_data",
          "data": {
            "text/plain": [],
            "text/html": [
              "<pre style=\"white-space:pre;overflow-x:auto;line-height:normal;font-family:Menlo,'DejaVu Sans Mono',consolas,'Courier New',monospace\"></pre>\n"
            ]
          },
          "metadata": {}
        },
        {
          "output_type": "display_data",
          "data": {
            "text/plain": [
              "\n"
            ],
            "text/html": [
              "<pre style=\"white-space:pre;overflow-x:auto;line-height:normal;font-family:Menlo,'DejaVu Sans Mono',consolas,'Courier New',monospace\">\n",
              "</pre>\n"
            ]
          },
          "metadata": {}
        },
        {
          "output_type": "display_data",
          "data": {
            "text/plain": [
              "\u001b[3m                    Last 10 Games                    \u001b[0m\n",
              "     ╷          ╷       ╷        ╷         ╷         \n",
              " \u001b[1m \u001b[0m\u001b[1m #\u001b[0m\u001b[1m \u001b[0m│\u001b[1m \u001b[0m\u001b[1mSEATING \u001b[0m\u001b[1m \u001b[0m│\u001b[1m \u001b[0m\u001b[1mTURNS\u001b[0m\u001b[1m \u001b[0m│\u001b[1m \u001b[0m\u001b[1mRED VP\u001b[0m\u001b[1m \u001b[0m│\u001b[1m \u001b[0m\u001b[1mBLUE VP\u001b[0m\u001b[1m \u001b[0m│\u001b[1m \u001b[0m\u001b[1mWINNER\u001b[0m\u001b[1m \u001b[0m \n",
              "╶────┼──────────┼───────┼────────┼─────────┼────────╴\n",
              "   1 │ \u001b[34mBLUE\u001b[0m,\u001b[31mRED\u001b[0m │   110 │      2 │      10 │ \u001b[34mBLUE\u001b[0m    \n",
              "   2 │ \u001b[34mBLUE\u001b[0m,\u001b[31mRED\u001b[0m │   100 │      2 │      10 │ \u001b[34mBLUE\u001b[0m    \n",
              "   3 │ \u001b[31mRED\u001b[0m,\u001b[34mBLUE\u001b[0m │    79 │      2 │      10 │ \u001b[34mBLUE\u001b[0m    \n",
              "   4 │ \u001b[34mBLUE\u001b[0m,\u001b[31mRED\u001b[0m │    60 │      2 │      10 │ \u001b[34mBLUE\u001b[0m    \n",
              "   5 │ \u001b[31mRED\u001b[0m,\u001b[34mBLUE\u001b[0m │    53 │      2 │      10 │ \u001b[34mBLUE\u001b[0m    \n",
              "   6 │ \u001b[34mBLUE\u001b[0m,\u001b[31mRED\u001b[0m │    56 │      2 │      10 │ \u001b[34mBLUE\u001b[0m    \n",
              "   7 │ \u001b[31mRED\u001b[0m,\u001b[34mBLUE\u001b[0m │    75 │      2 │      10 │ \u001b[34mBLUE\u001b[0m    \n",
              "   8 │ \u001b[31mRED\u001b[0m,\u001b[34mBLUE\u001b[0m │    69 │      2 │      10 │ \u001b[34mBLUE\u001b[0m    \n",
              "   9 │ \u001b[31mRED\u001b[0m,\u001b[34mBLUE\u001b[0m │    49 │      2 │      10 │ \u001b[34mBLUE\u001b[0m    \n",
              "  10 │ \u001b[31mRED\u001b[0m,\u001b[34mBLUE\u001b[0m │    73 │      2 │      10 │ \u001b[34mBLUE\u001b[0m    \n",
              "     ╵          ╵       ╵        ╵         ╵         \n"
            ],
            "text/html": [
              "<pre style=\"white-space:pre;overflow-x:auto;line-height:normal;font-family:Menlo,'DejaVu Sans Mono',consolas,'Courier New',monospace\"><span style=\"font-style: italic\">                    Last 10 Games                    </span>\n",
              "     ╷          ╷       ╷        ╷         ╷         \n",
              " <span style=\"font-weight: bold\">  # </span>│<span style=\"font-weight: bold\"> SEATING  </span>│<span style=\"font-weight: bold\"> TURNS </span>│<span style=\"font-weight: bold\"> RED VP </span>│<span style=\"font-weight: bold\"> BLUE VP </span>│<span style=\"font-weight: bold\"> WINNER </span> \n",
              "╶────┼──────────┼───────┼────────┼─────────┼────────╴\n",
              "   1 │ <span style=\"color: #000080; text-decoration-color: #000080\">BLUE</span>,<span style=\"color: #800000; text-decoration-color: #800000\">RED</span> │   110 │      2 │      10 │ <span style=\"color: #000080; text-decoration-color: #000080\">BLUE</span>    \n",
              "   2 │ <span style=\"color: #000080; text-decoration-color: #000080\">BLUE</span>,<span style=\"color: #800000; text-decoration-color: #800000\">RED</span> │   100 │      2 │      10 │ <span style=\"color: #000080; text-decoration-color: #000080\">BLUE</span>    \n",
              "   3 │ <span style=\"color: #800000; text-decoration-color: #800000\">RED</span>,<span style=\"color: #000080; text-decoration-color: #000080\">BLUE</span> │    79 │      2 │      10 │ <span style=\"color: #000080; text-decoration-color: #000080\">BLUE</span>    \n",
              "   4 │ <span style=\"color: #000080; text-decoration-color: #000080\">BLUE</span>,<span style=\"color: #800000; text-decoration-color: #800000\">RED</span> │    60 │      2 │      10 │ <span style=\"color: #000080; text-decoration-color: #000080\">BLUE</span>    \n",
              "   5 │ <span style=\"color: #800000; text-decoration-color: #800000\">RED</span>,<span style=\"color: #000080; text-decoration-color: #000080\">BLUE</span> │    53 │      2 │      10 │ <span style=\"color: #000080; text-decoration-color: #000080\">BLUE</span>    \n",
              "   6 │ <span style=\"color: #000080; text-decoration-color: #000080\">BLUE</span>,<span style=\"color: #800000; text-decoration-color: #800000\">RED</span> │    56 │      2 │      10 │ <span style=\"color: #000080; text-decoration-color: #000080\">BLUE</span>    \n",
              "   7 │ <span style=\"color: #800000; text-decoration-color: #800000\">RED</span>,<span style=\"color: #000080; text-decoration-color: #000080\">BLUE</span> │    75 │      2 │      10 │ <span style=\"color: #000080; text-decoration-color: #000080\">BLUE</span>    \n",
              "   8 │ <span style=\"color: #800000; text-decoration-color: #800000\">RED</span>,<span style=\"color: #000080; text-decoration-color: #000080\">BLUE</span> │    69 │      2 │      10 │ <span style=\"color: #000080; text-decoration-color: #000080\">BLUE</span>    \n",
              "   9 │ <span style=\"color: #800000; text-decoration-color: #800000\">RED</span>,<span style=\"color: #000080; text-decoration-color: #000080\">BLUE</span> │    49 │      2 │      10 │ <span style=\"color: #000080; text-decoration-color: #000080\">BLUE</span>    \n",
              "  10 │ <span style=\"color: #800000; text-decoration-color: #800000\">RED</span>,<span style=\"color: #000080; text-decoration-color: #000080\">BLUE</span> │    73 │      2 │      10 │ <span style=\"color: #000080; text-decoration-color: #000080\">BLUE</span>    \n",
              "     ╵          ╵       ╵        ╵         ╵         \n",
              "</pre>\n"
            ]
          },
          "metadata": {}
        },
        {
          "output_type": "display_data",
          "data": {
            "text/plain": [
              "\u001b[3m                                                  Player Summary                                                   \u001b[0m\n",
              "                       ╷      ╷      ╷      ╷      ╷      ╷      ╷      ╷      ╷      ╷      ╷      ╷      ╷       \n",
              " \u001b[1m                      \u001b[0m│\u001b[1m      \u001b[0m│\u001b[1m      \u001b[0m│\u001b[1m      \u001b[0m│\u001b[1m      \u001b[0m│\u001b[1m      \u001b[0m│\u001b[1m      \u001b[0m│\u001b[1m      \u001b[0m│\u001b[1m      \u001b[0m│\u001b[1m      \u001b[0m│\u001b[1m      \u001b[0m│\u001b[1m      \u001b[0m│\u001b[1m \u001b[0m\u001b[1m AVG\u001b[0m\u001b[1m \u001b[0m│\u001b[1m \u001b[0m\u001b[1m STD\u001b[0m\u001b[1m \u001b[0m \n",
              " \u001b[1m                      \u001b[0m│\u001b[1m      \u001b[0m│\u001b[1m \u001b[0m\u001b[1m AVG\u001b[0m\u001b[1m \u001b[0m│\u001b[1m \u001b[0m\u001b[1m STD\u001b[0m\u001b[1m \u001b[0m│\u001b[1m \u001b[0m\u001b[1m AVG\u001b[0m\u001b[1m \u001b[0m│\u001b[1m \u001b[0m\u001b[1m STD\u001b[0m\u001b[1m \u001b[0m│\u001b[1m \u001b[0m\u001b[1m AVG\u001b[0m\u001b[1m \u001b[0m│\u001b[1m \u001b[0m\u001b[1m STD\u001b[0m\u001b[1m \u001b[0m│\u001b[1m \u001b[0m\u001b[1m AVG\u001b[0m\u001b[1m \u001b[0m│\u001b[1m \u001b[0m\u001b[1m STD\u001b[0m\u001b[1m \u001b[0m│\u001b[1m \u001b[0m\u001b[1m AVG\u001b[0m\u001b[1m \u001b[0m│\u001b[1m \u001b[0m\u001b[1m STD\u001b[0m\u001b[1m \u001b[0m│\u001b[1m \u001b[0m\u001b[1m DEV\u001b[0m\u001b[1m \u001b[0m│\u001b[1m \u001b[0m\u001b[1m DEV\u001b[0m\u001b[1m \u001b[0m \n",
              " \u001b[1m \u001b[0m\u001b[1m                    \u001b[0m\u001b[1m \u001b[0m│\u001b[1m \u001b[0m\u001b[1mWINS\u001b[0m\u001b[1m \u001b[0m│\u001b[1m \u001b[0m\u001b[1m  VP\u001b[0m\u001b[1m \u001b[0m│\u001b[1m \u001b[0m\u001b[1m  VP\u001b[0m\u001b[1m \u001b[0m│\u001b[1m \u001b[0m\u001b[1mSET…\u001b[0m\u001b[1m \u001b[0m│\u001b[1m \u001b[0m\u001b[1mSET…\u001b[0m\u001b[1m \u001b[0m│\u001b[1m \u001b[0m\u001b[1mCIT…\u001b[0m\u001b[1m \u001b[0m│\u001b[1m \u001b[0m\u001b[1mCIT…\u001b[0m\u001b[1m \u001b[0m│\u001b[1m \u001b[0m\u001b[1mROAD\u001b[0m\u001b[1m \u001b[0m│\u001b[1m \u001b[0m\u001b[1mROAD\u001b[0m\u001b[1m \u001b[0m│\u001b[1m \u001b[0m\u001b[1mARMY\u001b[0m\u001b[1m \u001b[0m│\u001b[1m \u001b[0m\u001b[1mARMY\u001b[0m\u001b[1m \u001b[0m│\u001b[1m \u001b[0m\u001b[1m  VP\u001b[0m\u001b[1m \u001b[0m│\u001b[1m \u001b[0m\u001b[1m  VP\u001b[0m\u001b[1m \u001b[0m \n",
              "╶──────────────────────┼──────┼──────┼──────┼──────┼──────┼──────┼──────┼──────┼──────┼──────┼──────┼──────┼──────╴\n",
              "  \u001b[31mAlphaBetaPlayer:RED\u001b[0m  │    0 │ 2.00 │ 0.00 │ 2.00 │ 5.69 │ 0.00 │ 0.00 │ 0.00 │ 0.00 │ 0.00 │ 0.00 │ 0.00 │ 0.00  \n",
              "  \u001b[34mAlphaBetaPlayer:BLUE\u001b[0m │   10 │ 10.… │ 0.00 │ 3.20 │ 9.11 │ 2.40 │ 6.83 │ 1.00 │ 2.85 │ 0.00 │ 0.00 │ 0.00 │ 0.00  \n",
              "                       ╵      ╵      ╵      ╵      ╵      ╵      ╵      ╵      ╵      ╵      ╵      ╵      ╵       \n"
            ],
            "text/html": [
              "<pre style=\"white-space:pre;overflow-x:auto;line-height:normal;font-family:Menlo,'DejaVu Sans Mono',consolas,'Courier New',monospace\"><span style=\"font-style: italic\">                                                  Player Summary                                                   </span>\n",
              "                       ╷      ╷      ╷      ╷      ╷      ╷      ╷      ╷      ╷      ╷      ╷      ╷      ╷       \n",
              " <span style=\"font-weight: bold\">                      </span>│<span style=\"font-weight: bold\">      </span>│<span style=\"font-weight: bold\">      </span>│<span style=\"font-weight: bold\">      </span>│<span style=\"font-weight: bold\">      </span>│<span style=\"font-weight: bold\">      </span>│<span style=\"font-weight: bold\">      </span>│<span style=\"font-weight: bold\">      </span>│<span style=\"font-weight: bold\">      </span>│<span style=\"font-weight: bold\">      </span>│<span style=\"font-weight: bold\">      </span>│<span style=\"font-weight: bold\">      </span>│<span style=\"font-weight: bold\">  AVG </span>│<span style=\"font-weight: bold\">  STD </span> \n",
              " <span style=\"font-weight: bold\">                      </span>│<span style=\"font-weight: bold\">      </span>│<span style=\"font-weight: bold\">  AVG </span>│<span style=\"font-weight: bold\">  STD </span>│<span style=\"font-weight: bold\">  AVG </span>│<span style=\"font-weight: bold\">  STD </span>│<span style=\"font-weight: bold\">  AVG </span>│<span style=\"font-weight: bold\">  STD </span>│<span style=\"font-weight: bold\">  AVG </span>│<span style=\"font-weight: bold\">  STD </span>│<span style=\"font-weight: bold\">  AVG </span>│<span style=\"font-weight: bold\">  STD </span>│<span style=\"font-weight: bold\">  DEV </span>│<span style=\"font-weight: bold\">  DEV </span> \n",
              " <span style=\"font-weight: bold\">                      </span>│<span style=\"font-weight: bold\"> WINS </span>│<span style=\"font-weight: bold\">   VP </span>│<span style=\"font-weight: bold\">   VP </span>│<span style=\"font-weight: bold\"> SET… </span>│<span style=\"font-weight: bold\"> SET… </span>│<span style=\"font-weight: bold\"> CIT… </span>│<span style=\"font-weight: bold\"> CIT… </span>│<span style=\"font-weight: bold\"> ROAD </span>│<span style=\"font-weight: bold\"> ROAD </span>│<span style=\"font-weight: bold\"> ARMY </span>│<span style=\"font-weight: bold\"> ARMY </span>│<span style=\"font-weight: bold\">   VP </span>│<span style=\"font-weight: bold\">   VP </span> \n",
              "╶──────────────────────┼──────┼──────┼──────┼──────┼──────┼──────┼──────┼──────┼──────┼──────┼──────┼──────┼──────╴\n",
              "  <span style=\"color: #800000; text-decoration-color: #800000\">AlphaBetaPlayer:RED</span>  │    0 │ 2.00 │ 0.00 │ 2.00 │ 5.69 │ 0.00 │ 0.00 │ 0.00 │ 0.00 │ 0.00 │ 0.00 │ 0.00 │ 0.00  \n",
              "  <span style=\"color: #000080; text-decoration-color: #000080\">AlphaBetaPlayer:BLUE</span> │   10 │ 10.… │ 0.00 │ 3.20 │ 9.11 │ 2.40 │ 6.83 │ 1.00 │ 2.85 │ 0.00 │ 0.00 │ 0.00 │ 0.00  \n",
              "                       ╵      ╵      ╵      ╵      ╵      ╵      ╵      ╵      ╵      ╵      ╵      ╵      ╵       \n",
              "</pre>\n"
            ]
          },
          "metadata": {}
        },
        {
          "output_type": "display_data",
          "data": {
            "text/plain": [
              "\u001b[3m                                 Game Summary                                  \u001b[0m\n",
              "            ╷           ╷           ╷           ╷              ╷               \n",
              " \u001b[1m \u001b[0m\u001b[1mAVG TICKS\u001b[0m\u001b[1m \u001b[0m│\u001b[1m \u001b[0m\u001b[1mSTD TICKS\u001b[0m\u001b[1m \u001b[0m│\u001b[1m \u001b[0m\u001b[1mAVG TURNS\u001b[0m\u001b[1m \u001b[0m│\u001b[1m \u001b[0m\u001b[1mSTD TURNS\u001b[0m\u001b[1m \u001b[0m│\u001b[1m \u001b[0m\u001b[1mAVG DURATION\u001b[0m\u001b[1m \u001b[0m│\u001b[1m \u001b[0m\u001b[1mSTD DURATION\u001b[0m\u001b[1m \u001b[0m \n",
              "╶───────────┼───────────┼───────────┼───────────┼──────────────┼──────────────╴\n",
              "     194.10 │     48.22 │     72.40 │     18.93 │   7.563 secs │   2.694 secs  \n",
              "            ╵           ╵           ╵           ╵              ╵               \n"
            ],
            "text/html": [
              "<pre style=\"white-space:pre;overflow-x:auto;line-height:normal;font-family:Menlo,'DejaVu Sans Mono',consolas,'Courier New',monospace\"><span style=\"font-style: italic\">                                 Game Summary                                  </span>\n",
              "            ╷           ╷           ╷           ╷              ╷               \n",
              " <span style=\"font-weight: bold\"> AVG TICKS </span>│<span style=\"font-weight: bold\"> STD TICKS </span>│<span style=\"font-weight: bold\"> AVG TURNS </span>│<span style=\"font-weight: bold\"> STD TURNS </span>│<span style=\"font-weight: bold\"> AVG DURATION </span>│<span style=\"font-weight: bold\"> STD DURATION </span> \n",
              "╶───────────┼───────────┼───────────┼───────────┼──────────────┼──────────────╴\n",
              "     194.10 │     48.22 │     72.40 │     18.93 │   7.563 secs │   2.694 secs  \n",
              "            ╵           ╵           ╵           ╵              ╵               \n",
              "</pre>\n"
            ]
          },
          "metadata": {}
        }
      ],
      "source": [
        "players = [\n",
        "    AlphaBetaPlayer(Color.RED, params=test_weights, value_fn_builder_name=\"A\"),\n",
        "    AlphaBetaPlayer(Color.BLUE)\n",
        "]\n",
        "\n",
        "wins, results_by_player, games = play_batch(10, players)"
      ]
    },
    {
      "cell_type": "code",
      "source": [
        "test_weights = DEFAULT_WEIGHTS.copy()\n",
        "for k, v in test_weights.items():\n",
        "    test_weights[k] = 0\n",
        "# test_weights['enemy_production'] = -5e12\n",
        "# test_weights['num_tiles'] = 1"
      ],
      "metadata": {
        "id": "OiaYY1iSQNlY",
        "outputId": "41fc00a5-4959-476b-e109-ebcbb6c2dc1a",
        "colab": {
          "base_uri": "https://localhost:8080/",
          "height": 17
        }
      },
      "execution_count": 6,
      "outputs": [
        {
          "output_type": "display_data",
          "data": {
            "text/plain": [
              "<IPython.core.display.Javascript object>"
            ],
            "application/javascript": [
              "google.colab.output.setIframeHeight(0, true, {maxHeight: 5000, maxWidth:10000})"
            ]
          },
          "metadata": {}
        }
      ]
    },
    {
      "cell_type": "code",
      "source": [
        "players = [\n",
        "    AlphaBetaPlayer(Color.RED, params=test_weights, value_fn_builder_name=\"A\"),\n",
        "    AlphaBetaPlayer(Color.BLUE)\n",
        "]\n",
        "\n",
        "wins, results_by_player, games = play_batch(10, players)"
      ],
      "metadata": {
        "id": "-a-s1Uh2rpVb",
        "outputId": "d2aa775e-2901-44af-c4de-7643fc618827",
        "colab": {
          "base_uri": "https://localhost:8080/",
          "height": 545,
          "referenced_widgets": [
            "ad1a06e39422480881dc56cd5333f585",
            "aeea4d9072c749938500cb0a4c1f7cbc"
          ]
        }
      },
      "execution_count": 7,
      "outputs": [
        {
          "output_type": "display_data",
          "data": {
            "text/plain": [
              "<IPython.core.display.Javascript object>"
            ],
            "application/javascript": [
              "google.colab.output.setIframeHeight(0, true, {maxHeight: 5000, maxWidth:10000})"
            ]
          },
          "metadata": {}
        },
        {
          "output_type": "display_data",
          "data": {
            "text/plain": [
              "Output()"
            ],
            "application/vnd.jupyter.widget-view+json": {
              "version_major": 2,
              "version_minor": 0,
              "model_id": "ad1a06e39422480881dc56cd5333f585"
            }
          },
          "metadata": {}
        },
        {
          "output_type": "display_data",
          "data": {
            "text/plain": [],
            "text/html": [
              "<pre style=\"white-space:pre;overflow-x:auto;line-height:normal;font-family:Menlo,'DejaVu Sans Mono',consolas,'Courier New',monospace\"></pre>\n"
            ]
          },
          "metadata": {}
        },
        {
          "output_type": "display_data",
          "data": {
            "text/plain": [
              "\n"
            ],
            "text/html": [
              "<pre style=\"white-space:pre;overflow-x:auto;line-height:normal;font-family:Menlo,'DejaVu Sans Mono',consolas,'Courier New',monospace\">\n",
              "</pre>\n"
            ]
          },
          "metadata": {}
        },
        {
          "output_type": "display_data",
          "data": {
            "text/plain": [
              "\u001b[3m                    Last 10 Games                    \u001b[0m\n",
              "     ╷          ╷       ╷        ╷         ╷         \n",
              " \u001b[1m \u001b[0m\u001b[1m #\u001b[0m\u001b[1m \u001b[0m│\u001b[1m \u001b[0m\u001b[1mSEATING \u001b[0m\u001b[1m \u001b[0m│\u001b[1m \u001b[0m\u001b[1mTURNS\u001b[0m\u001b[1m \u001b[0m│\u001b[1m \u001b[0m\u001b[1mRED VP\u001b[0m\u001b[1m \u001b[0m│\u001b[1m \u001b[0m\u001b[1mBLUE VP\u001b[0m\u001b[1m \u001b[0m│\u001b[1m \u001b[0m\u001b[1mWINNER\u001b[0m\u001b[1m \u001b[0m \n",
              "╶────┼──────────┼───────┼────────┼─────────┼────────╴\n",
              "   1 │ \u001b[34mBLUE\u001b[0m,\u001b[31mRED\u001b[0m │    66 │      2 │      10 │ \u001b[34mBLUE\u001b[0m    \n",
              "   2 │ \u001b[34mBLUE\u001b[0m,\u001b[31mRED\u001b[0m │   100 │      2 │      10 │ \u001b[34mBLUE\u001b[0m    \n",
              "   3 │ \u001b[31mRED\u001b[0m,\u001b[34mBLUE\u001b[0m │    29 │      2 │      10 │ \u001b[34mBLUE\u001b[0m    \n",
              "   4 │ \u001b[34mBLUE\u001b[0m,\u001b[31mRED\u001b[0m │    66 │      2 │      10 │ \u001b[34mBLUE\u001b[0m    \n",
              "   5 │ \u001b[34mBLUE\u001b[0m,\u001b[31mRED\u001b[0m │    68 │      2 │      10 │ \u001b[34mBLUE\u001b[0m    \n",
              "   6 │ \u001b[31mRED\u001b[0m,\u001b[34mBLUE\u001b[0m │    73 │      2 │      10 │ \u001b[34mBLUE\u001b[0m    \n",
              "   7 │ \u001b[34mBLUE\u001b[0m,\u001b[31mRED\u001b[0m │    38 │      2 │      10 │ \u001b[34mBLUE\u001b[0m    \n",
              "   8 │ \u001b[31mRED\u001b[0m,\u001b[34mBLUE\u001b[0m │    69 │      2 │      10 │ \u001b[34mBLUE\u001b[0m    \n",
              "   9 │ \u001b[34mBLUE\u001b[0m,\u001b[31mRED\u001b[0m │    56 │      2 │      10 │ \u001b[34mBLUE\u001b[0m    \n",
              "  10 │ \u001b[34mBLUE\u001b[0m,\u001b[31mRED\u001b[0m │    60 │      2 │      10 │ \u001b[34mBLUE\u001b[0m    \n",
              "     ╵          ╵       ╵        ╵         ╵         \n"
            ],
            "text/html": [
              "<pre style=\"white-space:pre;overflow-x:auto;line-height:normal;font-family:Menlo,'DejaVu Sans Mono',consolas,'Courier New',monospace\"><span style=\"font-style: italic\">                    Last 10 Games                    </span>\n",
              "     ╷          ╷       ╷        ╷         ╷         \n",
              " <span style=\"font-weight: bold\">  # </span>│<span style=\"font-weight: bold\"> SEATING  </span>│<span style=\"font-weight: bold\"> TURNS </span>│<span style=\"font-weight: bold\"> RED VP </span>│<span style=\"font-weight: bold\"> BLUE VP </span>│<span style=\"font-weight: bold\"> WINNER </span> \n",
              "╶────┼──────────┼───────┼────────┼─────────┼────────╴\n",
              "   1 │ <span style=\"color: #000080; text-decoration-color: #000080\">BLUE</span>,<span style=\"color: #800000; text-decoration-color: #800000\">RED</span> │    66 │      2 │      10 │ <span style=\"color: #000080; text-decoration-color: #000080\">BLUE</span>    \n",
              "   2 │ <span style=\"color: #000080; text-decoration-color: #000080\">BLUE</span>,<span style=\"color: #800000; text-decoration-color: #800000\">RED</span> │   100 │      2 │      10 │ <span style=\"color: #000080; text-decoration-color: #000080\">BLUE</span>    \n",
              "   3 │ <span style=\"color: #800000; text-decoration-color: #800000\">RED</span>,<span style=\"color: #000080; text-decoration-color: #000080\">BLUE</span> │    29 │      2 │      10 │ <span style=\"color: #000080; text-decoration-color: #000080\">BLUE</span>    \n",
              "   4 │ <span style=\"color: #000080; text-decoration-color: #000080\">BLUE</span>,<span style=\"color: #800000; text-decoration-color: #800000\">RED</span> │    66 │      2 │      10 │ <span style=\"color: #000080; text-decoration-color: #000080\">BLUE</span>    \n",
              "   5 │ <span style=\"color: #000080; text-decoration-color: #000080\">BLUE</span>,<span style=\"color: #800000; text-decoration-color: #800000\">RED</span> │    68 │      2 │      10 │ <span style=\"color: #000080; text-decoration-color: #000080\">BLUE</span>    \n",
              "   6 │ <span style=\"color: #800000; text-decoration-color: #800000\">RED</span>,<span style=\"color: #000080; text-decoration-color: #000080\">BLUE</span> │    73 │      2 │      10 │ <span style=\"color: #000080; text-decoration-color: #000080\">BLUE</span>    \n",
              "   7 │ <span style=\"color: #000080; text-decoration-color: #000080\">BLUE</span>,<span style=\"color: #800000; text-decoration-color: #800000\">RED</span> │    38 │      2 │      10 │ <span style=\"color: #000080; text-decoration-color: #000080\">BLUE</span>    \n",
              "   8 │ <span style=\"color: #800000; text-decoration-color: #800000\">RED</span>,<span style=\"color: #000080; text-decoration-color: #000080\">BLUE</span> │    69 │      2 │      10 │ <span style=\"color: #000080; text-decoration-color: #000080\">BLUE</span>    \n",
              "   9 │ <span style=\"color: #000080; text-decoration-color: #000080\">BLUE</span>,<span style=\"color: #800000; text-decoration-color: #800000\">RED</span> │    56 │      2 │      10 │ <span style=\"color: #000080; text-decoration-color: #000080\">BLUE</span>    \n",
              "  10 │ <span style=\"color: #000080; text-decoration-color: #000080\">BLUE</span>,<span style=\"color: #800000; text-decoration-color: #800000\">RED</span> │    60 │      2 │      10 │ <span style=\"color: #000080; text-decoration-color: #000080\">BLUE</span>    \n",
              "     ╵          ╵       ╵        ╵         ╵         \n",
              "</pre>\n"
            ]
          },
          "metadata": {}
        },
        {
          "output_type": "display_data",
          "data": {
            "text/plain": [
              "\u001b[3m                                                  Player Summary                                                   \u001b[0m\n",
              "                       ╷      ╷      ╷      ╷      ╷      ╷      ╷      ╷      ╷      ╷      ╷      ╷      ╷       \n",
              " \u001b[1m                      \u001b[0m│\u001b[1m      \u001b[0m│\u001b[1m      \u001b[0m│\u001b[1m      \u001b[0m│\u001b[1m      \u001b[0m│\u001b[1m      \u001b[0m│\u001b[1m      \u001b[0m│\u001b[1m      \u001b[0m│\u001b[1m      \u001b[0m│\u001b[1m      \u001b[0m│\u001b[1m      \u001b[0m│\u001b[1m      \u001b[0m│\u001b[1m \u001b[0m\u001b[1m AVG\u001b[0m\u001b[1m \u001b[0m│\u001b[1m \u001b[0m\u001b[1m STD\u001b[0m\u001b[1m \u001b[0m \n",
              " \u001b[1m                      \u001b[0m│\u001b[1m      \u001b[0m│\u001b[1m \u001b[0m\u001b[1m AVG\u001b[0m\u001b[1m \u001b[0m│\u001b[1m \u001b[0m\u001b[1m STD\u001b[0m\u001b[1m \u001b[0m│\u001b[1m \u001b[0m\u001b[1m AVG\u001b[0m\u001b[1m \u001b[0m│\u001b[1m \u001b[0m\u001b[1m STD\u001b[0m\u001b[1m \u001b[0m│\u001b[1m \u001b[0m\u001b[1m AVG\u001b[0m\u001b[1m \u001b[0m│\u001b[1m \u001b[0m\u001b[1m STD\u001b[0m\u001b[1m \u001b[0m│\u001b[1m \u001b[0m\u001b[1m AVG\u001b[0m\u001b[1m \u001b[0m│\u001b[1m \u001b[0m\u001b[1m STD\u001b[0m\u001b[1m \u001b[0m│\u001b[1m \u001b[0m\u001b[1m AVG\u001b[0m\u001b[1m \u001b[0m│\u001b[1m \u001b[0m\u001b[1m STD\u001b[0m\u001b[1m \u001b[0m│\u001b[1m \u001b[0m\u001b[1m DEV\u001b[0m\u001b[1m \u001b[0m│\u001b[1m \u001b[0m\u001b[1m DEV\u001b[0m\u001b[1m \u001b[0m \n",
              " \u001b[1m \u001b[0m\u001b[1m                    \u001b[0m\u001b[1m \u001b[0m│\u001b[1m \u001b[0m\u001b[1mWINS\u001b[0m\u001b[1m \u001b[0m│\u001b[1m \u001b[0m\u001b[1m  VP\u001b[0m\u001b[1m \u001b[0m│\u001b[1m \u001b[0m\u001b[1m  VP\u001b[0m\u001b[1m \u001b[0m│\u001b[1m \u001b[0m\u001b[1mSET…\u001b[0m\u001b[1m \u001b[0m│\u001b[1m \u001b[0m\u001b[1mSET…\u001b[0m\u001b[1m \u001b[0m│\u001b[1m \u001b[0m\u001b[1mCIT…\u001b[0m\u001b[1m \u001b[0m│\u001b[1m \u001b[0m\u001b[1mCIT…\u001b[0m\u001b[1m \u001b[0m│\u001b[1m \u001b[0m\u001b[1mROAD\u001b[0m\u001b[1m \u001b[0m│\u001b[1m \u001b[0m\u001b[1mROAD\u001b[0m\u001b[1m \u001b[0m│\u001b[1m \u001b[0m\u001b[1mARMY\u001b[0m\u001b[1m \u001b[0m│\u001b[1m \u001b[0m\u001b[1mARMY\u001b[0m\u001b[1m \u001b[0m│\u001b[1m \u001b[0m\u001b[1m  VP\u001b[0m\u001b[1m \u001b[0m│\u001b[1m \u001b[0m\u001b[1m  VP\u001b[0m\u001b[1m \u001b[0m \n",
              "╶──────────────────────┼──────┼──────┼──────┼──────┼──────┼──────┼──────┼──────┼──────┼──────┼──────┼──────┼──────╴\n",
              "  \u001b[31mAlphaBetaPlayer:RED\u001b[0m  │    0 │ 2.00 │ 0.00 │ 2.00 │ 5.69 │ 0.00 │ 0.00 │ 0.00 │ 0.00 │ 0.00 │ 0.00 │ 0.00 │ 0.00  \n",
              "  \u001b[34mAlphaBetaPlayer:BLUE\u001b[0m │   10 │ 10.… │ 0.00 │ 2.40 │ 6.83 │ 2.80 │ 7.97 │ 1.00 │ 2.85 │ 0.00 │ 0.00 │ 0.00 │ 0.00  \n",
              "                       ╵      ╵      ╵      ╵      ╵      ╵      ╵      ╵      ╵      ╵      ╵      ╵      ╵       \n"
            ],
            "text/html": [
              "<pre style=\"white-space:pre;overflow-x:auto;line-height:normal;font-family:Menlo,'DejaVu Sans Mono',consolas,'Courier New',monospace\"><span style=\"font-style: italic\">                                                  Player Summary                                                   </span>\n",
              "                       ╷      ╷      ╷      ╷      ╷      ╷      ╷      ╷      ╷      ╷      ╷      ╷      ╷       \n",
              " <span style=\"font-weight: bold\">                      </span>│<span style=\"font-weight: bold\">      </span>│<span style=\"font-weight: bold\">      </span>│<span style=\"font-weight: bold\">      </span>│<span style=\"font-weight: bold\">      </span>│<span style=\"font-weight: bold\">      </span>│<span style=\"font-weight: bold\">      </span>│<span style=\"font-weight: bold\">      </span>│<span style=\"font-weight: bold\">      </span>│<span style=\"font-weight: bold\">      </span>│<span style=\"font-weight: bold\">      </span>│<span style=\"font-weight: bold\">      </span>│<span style=\"font-weight: bold\">  AVG </span>│<span style=\"font-weight: bold\">  STD </span> \n",
              " <span style=\"font-weight: bold\">                      </span>│<span style=\"font-weight: bold\">      </span>│<span style=\"font-weight: bold\">  AVG </span>│<span style=\"font-weight: bold\">  STD </span>│<span style=\"font-weight: bold\">  AVG </span>│<span style=\"font-weight: bold\">  STD </span>│<span style=\"font-weight: bold\">  AVG </span>│<span style=\"font-weight: bold\">  STD </span>│<span style=\"font-weight: bold\">  AVG </span>│<span style=\"font-weight: bold\">  STD </span>│<span style=\"font-weight: bold\">  AVG </span>│<span style=\"font-weight: bold\">  STD </span>│<span style=\"font-weight: bold\">  DEV </span>│<span style=\"font-weight: bold\">  DEV </span> \n",
              " <span style=\"font-weight: bold\">                      </span>│<span style=\"font-weight: bold\"> WINS </span>│<span style=\"font-weight: bold\">   VP </span>│<span style=\"font-weight: bold\">   VP </span>│<span style=\"font-weight: bold\"> SET… </span>│<span style=\"font-weight: bold\"> SET… </span>│<span style=\"font-weight: bold\"> CIT… </span>│<span style=\"font-weight: bold\"> CIT… </span>│<span style=\"font-weight: bold\"> ROAD </span>│<span style=\"font-weight: bold\"> ROAD </span>│<span style=\"font-weight: bold\"> ARMY </span>│<span style=\"font-weight: bold\"> ARMY </span>│<span style=\"font-weight: bold\">   VP </span>│<span style=\"font-weight: bold\">   VP </span> \n",
              "╶──────────────────────┼──────┼──────┼──────┼──────┼──────┼──────┼──────┼──────┼──────┼──────┼──────┼──────┼──────╴\n",
              "  <span style=\"color: #800000; text-decoration-color: #800000\">AlphaBetaPlayer:RED</span>  │    0 │ 2.00 │ 0.00 │ 2.00 │ 5.69 │ 0.00 │ 0.00 │ 0.00 │ 0.00 │ 0.00 │ 0.00 │ 0.00 │ 0.00  \n",
              "  <span style=\"color: #000080; text-decoration-color: #000080\">AlphaBetaPlayer:BLUE</span> │   10 │ 10.… │ 0.00 │ 2.40 │ 6.83 │ 2.80 │ 7.97 │ 1.00 │ 2.85 │ 0.00 │ 0.00 │ 0.00 │ 0.00  \n",
              "                       ╵      ╵      ╵      ╵      ╵      ╵      ╵      ╵      ╵      ╵      ╵      ╵      ╵       \n",
              "</pre>\n"
            ]
          },
          "metadata": {}
        },
        {
          "output_type": "display_data",
          "data": {
            "text/plain": [
              "\u001b[3m                                 Game Summary                                  \u001b[0m\n",
              "            ╷           ╷           ╷           ╷              ╷               \n",
              " \u001b[1m \u001b[0m\u001b[1mAVG TICKS\u001b[0m\u001b[1m \u001b[0m│\u001b[1m \u001b[0m\u001b[1mSTD TICKS\u001b[0m\u001b[1m \u001b[0m│\u001b[1m \u001b[0m\u001b[1mAVG TURNS\u001b[0m\u001b[1m \u001b[0m│\u001b[1m \u001b[0m\u001b[1mSTD TURNS\u001b[0m\u001b[1m \u001b[0m│\u001b[1m \u001b[0m\u001b[1mAVG DURATION\u001b[0m\u001b[1m \u001b[0m│\u001b[1m \u001b[0m\u001b[1mSTD DURATION\u001b[0m\u001b[1m \u001b[0m \n",
              "╶───────────┼───────────┼───────────┼───────────┼──────────────┼──────────────╴\n",
              "     168.10 │     47.31 │     62.50 │     18.40 │   5.492 secs │   1.605 secs  \n",
              "            ╵           ╵           ╵           ╵              ╵               \n"
            ],
            "text/html": [
              "<pre style=\"white-space:pre;overflow-x:auto;line-height:normal;font-family:Menlo,'DejaVu Sans Mono',consolas,'Courier New',monospace\"><span style=\"font-style: italic\">                                 Game Summary                                  </span>\n",
              "            ╷           ╷           ╷           ╷              ╷               \n",
              " <span style=\"font-weight: bold\"> AVG TICKS </span>│<span style=\"font-weight: bold\"> STD TICKS </span>│<span style=\"font-weight: bold\"> AVG TURNS </span>│<span style=\"font-weight: bold\"> STD TURNS </span>│<span style=\"font-weight: bold\"> AVG DURATION </span>│<span style=\"font-weight: bold\"> STD DURATION </span> \n",
              "╶───────────┼───────────┼───────────┼───────────┼──────────────┼──────────────╴\n",
              "     168.10 │     47.31 │     62.50 │     18.40 │   5.492 secs │   1.605 secs  \n",
              "            ╵           ╵           ╵           ╵              ╵               \n",
              "</pre>\n"
            ]
          },
          "metadata": {}
        }
      ]
    },
    {
      "cell_type": "code",
      "source": [],
      "metadata": {
        "id": "G3OvuGWuzS2T"
      },
      "execution_count": null,
      "outputs": []
    }
  ],
  "metadata": {
    "language_info": {
      "name": "python"
    },
    "colab": {
      "provenance": []
    },
    "kernelspec": {
      "name": "python3",
      "display_name": "Python 3"
    },
    "widgets": {
      "application/vnd.jupyter.widget-state+json": {
        "18d25d56a92940f999c296d01f204132": {
          "model_module": "@jupyter-widgets/output",
          "model_name": "OutputModel",
          "model_module_version": "1.0.0",
          "state": {
            "_dom_classes": [],
            "_model_module": "@jupyter-widgets/output",
            "_model_module_version": "1.0.0",
            "_model_name": "OutputModel",
            "_view_count": null,
            "_view_module": "@jupyter-widgets/output",
            "_view_module_version": "1.0.0",
            "_view_name": "OutputView",
            "layout": "IPY_MODEL_a6b38ad17da44205a09aa325b85fc95e",
            "msg_id": "",
            "outputs": [
              {
                "output_type": "display_data",
                "data": {
                  "text/plain": "Playing 10 games...  \u001b[32m━━━━━━━━━━━━━━━━━━━━━━━━━━━━━━━━━━━━━━━━\u001b[0m 100% 0:00:00\n\u001b[31mAlphaBetaPlayer:RED\u001b[0m  \u001b[38;5;237m━━━━━━━━━━━━━━━━━━━━━━━━━━━━━━━━━━━━━━━━\u001b[0m   0%        \n\u001b[34mAlphaBetaPlayer:BLUE\u001b[0m \u001b[32m━━━━━━━━━━━━━━━━━━━━━━━━━━━━━━━━━━━━━━━━\u001b[0m 100%        \n",
                  "text/html": "<pre style=\"white-space:pre;overflow-x:auto;line-height:normal;font-family:Menlo,'DejaVu Sans Mono',consolas,'Courier New',monospace\">Playing 10 games...  <span style=\"color: #008000; text-decoration-color: #008000\">━━━━━━━━━━━━━━━━━━━━━━━━━━━━━━━━━━━━━━━━</span> 100% 0:00:00\n<span style=\"color: #800000; text-decoration-color: #800000\">AlphaBetaPlayer:RED</span>  <span style=\"color: #3a3a3a; text-decoration-color: #3a3a3a\">━━━━━━━━━━━━━━━━━━━━━━━━━━━━━━━━━━━━━━━━</span>   0%        \n<span style=\"color: #000080; text-decoration-color: #000080\">AlphaBetaPlayer:BLUE</span> <span style=\"color: #008000; text-decoration-color: #008000\">━━━━━━━━━━━━━━━━━━━━━━━━━━━━━━━━━━━━━━━━</span> 100%        \n</pre>\n"
                },
                "metadata": {}
              }
            ]
          }
        },
        "a6b38ad17da44205a09aa325b85fc95e": {
          "model_module": "@jupyter-widgets/base",
          "model_name": "LayoutModel",
          "model_module_version": "1.2.0",
          "state": {
            "_model_module": "@jupyter-widgets/base",
            "_model_module_version": "1.2.0",
            "_model_name": "LayoutModel",
            "_view_count": null,
            "_view_module": "@jupyter-widgets/base",
            "_view_module_version": "1.2.0",
            "_view_name": "LayoutView",
            "align_content": null,
            "align_items": null,
            "align_self": null,
            "border": null,
            "bottom": null,
            "display": null,
            "flex": null,
            "flex_flow": null,
            "grid_area": null,
            "grid_auto_columns": null,
            "grid_auto_flow": null,
            "grid_auto_rows": null,
            "grid_column": null,
            "grid_gap": null,
            "grid_row": null,
            "grid_template_areas": null,
            "grid_template_columns": null,
            "grid_template_rows": null,
            "height": null,
            "justify_content": null,
            "justify_items": null,
            "left": null,
            "margin": null,
            "max_height": null,
            "max_width": null,
            "min_height": null,
            "min_width": null,
            "object_fit": null,
            "object_position": null,
            "order": null,
            "overflow": null,
            "overflow_x": null,
            "overflow_y": null,
            "padding": null,
            "right": null,
            "top": null,
            "visibility": null,
            "width": null
          }
        },
        "ad1a06e39422480881dc56cd5333f585": {
          "model_module": "@jupyter-widgets/output",
          "model_name": "OutputModel",
          "model_module_version": "1.0.0",
          "state": {
            "_dom_classes": [],
            "_model_module": "@jupyter-widgets/output",
            "_model_module_version": "1.0.0",
            "_model_name": "OutputModel",
            "_view_count": null,
            "_view_module": "@jupyter-widgets/output",
            "_view_module_version": "1.0.0",
            "_view_name": "OutputView",
            "layout": "IPY_MODEL_aeea4d9072c749938500cb0a4c1f7cbc",
            "msg_id": "",
            "outputs": [
              {
                "output_type": "display_data",
                "data": {
                  "text/plain": "Playing 10 games...  \u001b[32m━━━━━━━━━━━━━━━━━━━━━━━━━━━━━━━━━━━━━━━━\u001b[0m 100% 0:00:00\n\u001b[31mAlphaBetaPlayer:RED\u001b[0m  \u001b[38;5;237m━━━━━━━━━━━━━━━━━━━━━━━━━━━━━━━━━━━━━━━━\u001b[0m   0%        \n\u001b[34mAlphaBetaPlayer:BLUE\u001b[0m \u001b[32m━━━━━━━━━━━━━━━━━━━━━━━━━━━━━━━━━━━━━━━━\u001b[0m 100%        \n",
                  "text/html": "<pre style=\"white-space:pre;overflow-x:auto;line-height:normal;font-family:Menlo,'DejaVu Sans Mono',consolas,'Courier New',monospace\">Playing 10 games...  <span style=\"color: #008000; text-decoration-color: #008000\">━━━━━━━━━━━━━━━━━━━━━━━━━━━━━━━━━━━━━━━━</span> 100% 0:00:00\n<span style=\"color: #800000; text-decoration-color: #800000\">AlphaBetaPlayer:RED</span>  <span style=\"color: #3a3a3a; text-decoration-color: #3a3a3a\">━━━━━━━━━━━━━━━━━━━━━━━━━━━━━━━━━━━━━━━━</span>   0%        \n<span style=\"color: #000080; text-decoration-color: #000080\">AlphaBetaPlayer:BLUE</span> <span style=\"color: #008000; text-decoration-color: #008000\">━━━━━━━━━━━━━━━━━━━━━━━━━━━━━━━━━━━━━━━━</span> 100%        \n</pre>\n"
                },
                "metadata": {}
              }
            ]
          }
        },
        "aeea4d9072c749938500cb0a4c1f7cbc": {
          "model_module": "@jupyter-widgets/base",
          "model_name": "LayoutModel",
          "model_module_version": "1.2.0",
          "state": {
            "_model_module": "@jupyter-widgets/base",
            "_model_module_version": "1.2.0",
            "_model_name": "LayoutModel",
            "_view_count": null,
            "_view_module": "@jupyter-widgets/base",
            "_view_module_version": "1.2.0",
            "_view_name": "LayoutView",
            "align_content": null,
            "align_items": null,
            "align_self": null,
            "border": null,
            "bottom": null,
            "display": null,
            "flex": null,
            "flex_flow": null,
            "grid_area": null,
            "grid_auto_columns": null,
            "grid_auto_flow": null,
            "grid_auto_rows": null,
            "grid_column": null,
            "grid_gap": null,
            "grid_row": null,
            "grid_template_areas": null,
            "grid_template_columns": null,
            "grid_template_rows": null,
            "height": null,
            "justify_content": null,
            "justify_items": null,
            "left": null,
            "margin": null,
            "max_height": null,
            "max_width": null,
            "min_height": null,
            "min_width": null,
            "object_fit": null,
            "object_position": null,
            "order": null,
            "overflow": null,
            "overflow_x": null,
            "overflow_y": null,
            "padding": null,
            "right": null,
            "top": null,
            "visibility": null,
            "width": null
          }
        }
      }
    }
  },
  "nbformat": 4,
  "nbformat_minor": 0
}